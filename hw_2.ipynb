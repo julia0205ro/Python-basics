{
 "cells": [
  {
   "cell_type": "code",
   "execution_count": 50,
   "id": "42f1c4de",
   "metadata": {},
   "outputs": [],
   "source": [
    "import pandas as pd #import pandas library"
   ]
  },
  {
   "cell_type": "code",
   "execution_count": 51,
   "id": "5c5a03e1",
   "metadata": {
    "scrolled": false
   },
   "outputs": [
    {
     "data": {
      "text/html": [
       "<div>\n",
       "<style scoped>\n",
       "    .dataframe tbody tr th:only-of-type {\n",
       "        vertical-align: middle;\n",
       "    }\n",
       "\n",
       "    .dataframe tbody tr th {\n",
       "        vertical-align: top;\n",
       "    }\n",
       "\n",
       "    .dataframe thead th {\n",
       "        text-align: right;\n",
       "    }\n",
       "</style>\n",
       "<table border=\"1\" class=\"dataframe\">\n",
       "  <thead>\n",
       "    <tr style=\"text-align: right;\">\n",
       "      <th></th>\n",
       "      <th>order_id</th>\n",
       "      <th>date</th>\n",
       "      <th>customer_id</th>\n",
       "      <th>category</th>\n",
       "      <th>region</th>\n",
       "      <th>sales</th>\n",
       "      <th>quantity</th>\n",
       "      <th>discount</th>\n",
       "    </tr>\n",
       "  </thead>\n",
       "  <tbody>\n",
       "    <tr>\n",
       "      <th>0</th>\n",
       "      <td>14186940</td>\n",
       "      <td>2017-07-20</td>\n",
       "      <td>513</td>\n",
       "      <td>Спорт и отдых</td>\n",
       "      <td>Краснодарский край</td>\n",
       "      <td>10414.0</td>\n",
       "      <td>3</td>\n",
       "      <td>0.00</td>\n",
       "    </tr>\n",
       "    <tr>\n",
       "      <th>1</th>\n",
       "      <td>46863464</td>\n",
       "      <td>2017-01-27</td>\n",
       "      <td>514</td>\n",
       "      <td>Спорт и отдых</td>\n",
       "      <td>Владимирская область</td>\n",
       "      <td>4147.0</td>\n",
       "      <td>3</td>\n",
       "      <td>0.00</td>\n",
       "    </tr>\n",
       "    <tr>\n",
       "      <th>2</th>\n",
       "      <td>98992195</td>\n",
       "      <td>2017-01-22</td>\n",
       "      <td>514</td>\n",
       "      <td>Продукты питания</td>\n",
       "      <td>Владимирская область</td>\n",
       "      <td>1136.0</td>\n",
       "      <td>4</td>\n",
       "      <td>0.00</td>\n",
       "    </tr>\n",
       "    <tr>\n",
       "      <th>3</th>\n",
       "      <td>29193654</td>\n",
       "      <td>2018-02-18</td>\n",
       "      <td>514</td>\n",
       "      <td>Продукты питания</td>\n",
       "      <td>Владимирская область</td>\n",
       "      <td>938.0</td>\n",
       "      <td>1</td>\n",
       "      <td>0.03</td>\n",
       "    </tr>\n",
       "    <tr>\n",
       "      <th>4</th>\n",
       "      <td>63339281</td>\n",
       "      <td>2017-01-23</td>\n",
       "      <td>518</td>\n",
       "      <td>Одежда и обувь</td>\n",
       "      <td>Краснодарский край</td>\n",
       "      <td>1135.0</td>\n",
       "      <td>1</td>\n",
       "      <td>0.00</td>\n",
       "    </tr>\n",
       "  </tbody>\n",
       "</table>\n",
       "</div>"
      ],
      "text/plain": [
       "   order_id        date  customer_id          category                region  \\\n",
       "0  14186940  2017-07-20          513     Спорт и отдых    Краснодарский край   \n",
       "1  46863464  2017-01-27          514     Спорт и отдых  Владимирская область   \n",
       "2  98992195  2017-01-22          514  Продукты питания  Владимирская область   \n",
       "3  29193654  2018-02-18          514  Продукты питания  Владимирская область   \n",
       "4  63339281  2017-01-23          518    Одежда и обувь    Краснодарский край   \n",
       "\n",
       "     sales  quantity  discount  \n",
       "0  10414.0         3      0.00  \n",
       "1   4147.0         3      0.00  \n",
       "2   1136.0         4      0.00  \n",
       "3    938.0         1      0.03  \n",
       "4   1135.0         1      0.00  "
      ]
     },
     "execution_count": 51,
     "metadata": {},
     "output_type": "execute_result"
    }
   ],
   "source": [
    "data = pd.read_csv('sales_with_duplicates.csv') #upload dataframe\n",
    "data.head() #display first five rows of the dataframe"
   ]
  },
  {
   "cell_type": "code",
   "execution_count": 52,
   "id": "8bd65aec",
   "metadata": {},
   "outputs": [
    {
     "name": "stdout",
     "output_type": "stream",
     "text": [
      "<class 'pandas.core.frame.DataFrame'>\n",
      "RangeIndex: 1688224 entries, 0 to 1688223\n",
      "Data columns (total 8 columns):\n",
      " #   Column       Non-Null Count    Dtype  \n",
      "---  ------       --------------    -----  \n",
      " 0   order_id     1688224 non-null  int64  \n",
      " 1   date         1688224 non-null  object \n",
      " 2   customer_id  1688224 non-null  int64  \n",
      " 3   category     1688224 non-null  object \n",
      " 4   region       1688224 non-null  object \n",
      " 5   sales        1671362 non-null  float64\n",
      " 6   quantity     1688224 non-null  int64  \n",
      " 7   discount     1688224 non-null  float64\n",
      "dtypes: float64(2), int64(3), object(3)\n",
      "memory usage: 103.0+ MB\n"
     ]
    }
   ],
   "source": [
    "data.info() #display brif info about dataframe"
   ]
  },
  {
   "cell_type": "code",
   "execution_count": 53,
   "id": "c7f3e3d7",
   "metadata": {},
   "outputs": [
    {
     "data": {
      "text/plain": [
       "49203"
      ]
     },
     "execution_count": 53,
     "metadata": {},
     "output_type": "execute_result"
    }
   ],
   "source": [
    "data.duplicated().sum() #find out number of full duplicated rows "
   ]
  },
  {
   "cell_type": "code",
   "execution_count": 54,
   "id": "f8e1f0cb",
   "metadata": {},
   "outputs": [
    {
     "data": {
      "text/html": [
       "<div>\n",
       "<style scoped>\n",
       "    .dataframe tbody tr th:only-of-type {\n",
       "        vertical-align: middle;\n",
       "    }\n",
       "\n",
       "    .dataframe tbody tr th {\n",
       "        vertical-align: top;\n",
       "    }\n",
       "\n",
       "    .dataframe thead th {\n",
       "        text-align: right;\n",
       "    }\n",
       "</style>\n",
       "<table border=\"1\" class=\"dataframe\">\n",
       "  <thead>\n",
       "    <tr style=\"text-align: right;\">\n",
       "      <th></th>\n",
       "      <th>order_id</th>\n",
       "      <th>date</th>\n",
       "      <th>customer_id</th>\n",
       "      <th>category</th>\n",
       "      <th>region</th>\n",
       "      <th>sales</th>\n",
       "      <th>quantity</th>\n",
       "      <th>discount</th>\n",
       "    </tr>\n",
       "  </thead>\n",
       "  <tbody>\n",
       "    <tr>\n",
       "      <th>0</th>\n",
       "      <td>14186940</td>\n",
       "      <td>2017-07-20</td>\n",
       "      <td>513</td>\n",
       "      <td>Спорт и отдых</td>\n",
       "      <td>Краснодарский край</td>\n",
       "      <td>10414.0</td>\n",
       "      <td>3</td>\n",
       "      <td>0.00</td>\n",
       "    </tr>\n",
       "    <tr>\n",
       "      <th>1</th>\n",
       "      <td>46863464</td>\n",
       "      <td>2017-01-27</td>\n",
       "      <td>514</td>\n",
       "      <td>Спорт и отдых</td>\n",
       "      <td>Владимирская область</td>\n",
       "      <td>4147.0</td>\n",
       "      <td>3</td>\n",
       "      <td>0.00</td>\n",
       "    </tr>\n",
       "    <tr>\n",
       "      <th>2</th>\n",
       "      <td>98992195</td>\n",
       "      <td>2017-01-22</td>\n",
       "      <td>514</td>\n",
       "      <td>Продукты питания</td>\n",
       "      <td>Владимирская область</td>\n",
       "      <td>1136.0</td>\n",
       "      <td>4</td>\n",
       "      <td>0.00</td>\n",
       "    </tr>\n",
       "    <tr>\n",
       "      <th>3</th>\n",
       "      <td>29193654</td>\n",
       "      <td>2018-02-18</td>\n",
       "      <td>514</td>\n",
       "      <td>Продукты питания</td>\n",
       "      <td>Владимирская область</td>\n",
       "      <td>938.0</td>\n",
       "      <td>1</td>\n",
       "      <td>0.03</td>\n",
       "    </tr>\n",
       "    <tr>\n",
       "      <th>4</th>\n",
       "      <td>63339281</td>\n",
       "      <td>2017-01-23</td>\n",
       "      <td>518</td>\n",
       "      <td>Одежда и обувь</td>\n",
       "      <td>Краснодарский край</td>\n",
       "      <td>1135.0</td>\n",
       "      <td>1</td>\n",
       "      <td>0.00</td>\n",
       "    </tr>\n",
       "    <tr>\n",
       "      <th>...</th>\n",
       "      <td>...</td>\n",
       "      <td>...</td>\n",
       "      <td>...</td>\n",
       "      <td>...</td>\n",
       "      <td>...</td>\n",
       "      <td>...</td>\n",
       "      <td>...</td>\n",
       "      <td>...</td>\n",
       "    </tr>\n",
       "    <tr>\n",
       "      <th>1688219</th>\n",
       "      <td>92523241</td>\n",
       "      <td>2019-06-10</td>\n",
       "      <td>100505</td>\n",
       "      <td>Бытовая техника</td>\n",
       "      <td>Московская область</td>\n",
       "      <td>20935.0</td>\n",
       "      <td>4</td>\n",
       "      <td>0.00</td>\n",
       "    </tr>\n",
       "    <tr>\n",
       "      <th>1688220</th>\n",
       "      <td>49804946</td>\n",
       "      <td>2019-12-21</td>\n",
       "      <td>100505</td>\n",
       "      <td>Аптека</td>\n",
       "      <td>Московская область</td>\n",
       "      <td>907.0</td>\n",
       "      <td>4</td>\n",
       "      <td>0.00</td>\n",
       "    </tr>\n",
       "    <tr>\n",
       "      <th>1688221</th>\n",
       "      <td>80849013</td>\n",
       "      <td>2019-12-31</td>\n",
       "      <td>100505</td>\n",
       "      <td>Аптека</td>\n",
       "      <td>Московская область</td>\n",
       "      <td>1306.0</td>\n",
       "      <td>3</td>\n",
       "      <td>0.00</td>\n",
       "    </tr>\n",
       "    <tr>\n",
       "      <th>1688222</th>\n",
       "      <td>117928</td>\n",
       "      <td>2019-10-19</td>\n",
       "      <td>100506</td>\n",
       "      <td>Аптека</td>\n",
       "      <td>Смоленская область</td>\n",
       "      <td>566.0</td>\n",
       "      <td>2</td>\n",
       "      <td>0.00</td>\n",
       "    </tr>\n",
       "    <tr>\n",
       "      <th>1688223</th>\n",
       "      <td>75833052</td>\n",
       "      <td>2019-11-15</td>\n",
       "      <td>100506</td>\n",
       "      <td>Аптека</td>\n",
       "      <td>Смоленская область</td>\n",
       "      <td>2108.0</td>\n",
       "      <td>3</td>\n",
       "      <td>0.00</td>\n",
       "    </tr>\n",
       "  </tbody>\n",
       "</table>\n",
       "<p>1671362 rows × 8 columns</p>\n",
       "</div>"
      ],
      "text/plain": [
       "         order_id        date  customer_id          category  \\\n",
       "0        14186940  2017-07-20          513     Спорт и отдых   \n",
       "1        46863464  2017-01-27          514     Спорт и отдых   \n",
       "2        98992195  2017-01-22          514  Продукты питания   \n",
       "3        29193654  2018-02-18          514  Продукты питания   \n",
       "4        63339281  2017-01-23          518    Одежда и обувь   \n",
       "...           ...         ...          ...               ...   \n",
       "1688219  92523241  2019-06-10       100505   Бытовая техника   \n",
       "1688220  49804946  2019-12-21       100505            Аптека   \n",
       "1688221  80849013  2019-12-31       100505            Аптека   \n",
       "1688222    117928  2019-10-19       100506            Аптека   \n",
       "1688223  75833052  2019-11-15       100506            Аптека   \n",
       "\n",
       "                       region    sales  quantity  discount  \n",
       "0          Краснодарский край  10414.0         3      0.00  \n",
       "1        Владимирская область   4147.0         3      0.00  \n",
       "2        Владимирская область   1136.0         4      0.00  \n",
       "3        Владимирская область    938.0         1      0.03  \n",
       "4          Краснодарский край   1135.0         1      0.00  \n",
       "...                       ...      ...       ...       ...  \n",
       "1688219    Московская область  20935.0         4      0.00  \n",
       "1688220    Московская область    907.0         4      0.00  \n",
       "1688221    Московская область   1306.0         3      0.00  \n",
       "1688222    Смоленская область    566.0         2      0.00  \n",
       "1688223    Смоленская область   2108.0         3      0.00  \n",
       "\n",
       "[1671362 rows x 8 columns]"
      ]
     },
     "execution_count": 54,
     "metadata": {},
     "output_type": "execute_result"
    }
   ],
   "source": [
    "data = data[~pd.isnull(data['sales'])] #filter rows where sales is Null \n",
    "data"
   ]
  },
  {
   "cell_type": "code",
   "execution_count": 55,
   "id": "7e81973a",
   "metadata": {},
   "outputs": [
    {
     "data": {
      "text/plain": [
       "(248.0, 5648.149999999965)"
      ]
     },
     "execution_count": 55,
     "metadata": {},
     "output_type": "execute_result"
    }
   ],
   "source": [
    "#define 5% and 95% quantile for Одежда_и_обувь's category \n",
    "\n",
    "new_data = data.loc[data['category'] == 'Одежда и обувь']\n",
    "new_data['sales'].quantile(0.05), new_data['sales'].quantile(0.95)"
   ]
  },
  {
   "cell_type": "code",
   "execution_count": 56,
   "id": "cdb84647",
   "metadata": {},
   "outputs": [
    {
     "data": {
      "text/plain": [
       "<Axes: >"
      ]
     },
     "execution_count": 56,
     "metadata": {},
     "output_type": "execute_result"
    },
    {
     "data": {
      "image/png": "[encoded data removed]",
      "text/plain": [
       "<Figure size 640x480 with 1 Axes>"
      ]
     },
     "metadata": {},
     "output_type": "display_data"
    }
   ],
   "source": [
    "new_data['sales'].hist(bins=50) #draw a histogram of the distribution of the received data by price"
   ]
  }
 ],
 "metadata": {
  "kernelspec": {
   "display_name": "Python 3 (ipykernel)",
   "language": "python",
   "name": "python3"
  },
  "language_info": {
   "codemirror_mode": {
    "name": "ipython",
    "version": 3
   },
   "file_extension": ".py",
   "mimetype": "text/x-python",
   "name": "python",
   "nbconvert_exporter": "python",
   "pygments_lexer": "ipython3",
   "version": "3.11.5"
  }
 },
 "nbformat": 4,
 "nbformat_minor": 5
}
