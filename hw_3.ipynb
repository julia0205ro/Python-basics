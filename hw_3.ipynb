{
 "cells": [
  {
   "cell_type": "code",
   "execution_count": 61,
   "id": "0ae61908",
   "metadata": {},
   "outputs": [],
   "source": [
    "import pandas as pd #import pandas library"
   ]
  },
  {
   "cell_type": "code",
   "execution_count": 62,
   "id": "b090242c",
   "metadata": {},
   "outputs": [
    {
     "data": {
      "text/html": [
       "<div>\n",
       "<style scoped>\n",
       "    .dataframe tbody tr th:only-of-type {\n",
       "        vertical-align: middle;\n",
       "    }\n",
       "\n",
       "    .dataframe tbody tr th {\n",
       "        vertical-align: top;\n",
       "    }\n",
       "\n",
       "    .dataframe thead th {\n",
       "        text-align: right;\n",
       "    }\n",
       "</style>\n",
       "<table border=\"1\" class=\"dataframe\">\n",
       "  <thead>\n",
       "    <tr style=\"text-align: right;\">\n",
       "      <th></th>\n",
       "      <th>order_id</th>\n",
       "      <th>date</th>\n",
       "      <th>customer_id</th>\n",
       "      <th>category</th>\n",
       "      <th>region</th>\n",
       "      <th>sales</th>\n",
       "      <th>quantity</th>\n",
       "      <th>discount</th>\n",
       "    </tr>\n",
       "  </thead>\n",
       "  <tbody>\n",
       "    <tr>\n",
       "      <th>0</th>\n",
       "      <td>59570135</td>\n",
       "      <td>2017-10-16</td>\n",
       "      <td>512</td>\n",
       "      <td>Одежда и обувь</td>\n",
       "      <td>Ставропольский край</td>\n",
       "      <td>1301</td>\n",
       "      <td>2</td>\n",
       "      <td>0.00</td>\n",
       "    </tr>\n",
       "    <tr>\n",
       "      <th>1</th>\n",
       "      <td>16578697</td>\n",
       "      <td>2017-07-18</td>\n",
       "      <td>512</td>\n",
       "      <td>Одежда и обувь</td>\n",
       "      <td>Ставропольский край</td>\n",
       "      <td>3530</td>\n",
       "      <td>4</td>\n",
       "      <td>0.05</td>\n",
       "    </tr>\n",
       "    <tr>\n",
       "      <th>2</th>\n",
       "      <td>46943601</td>\n",
       "      <td>2017-07-05</td>\n",
       "      <td>512</td>\n",
       "      <td>Бытовая техника</td>\n",
       "      <td>Ставропольский край</td>\n",
       "      <td>5773</td>\n",
       "      <td>1</td>\n",
       "      <td>0.10</td>\n",
       "    </tr>\n",
       "    <tr>\n",
       "      <th>3</th>\n",
       "      <td>42436035</td>\n",
       "      <td>2017-02-18</td>\n",
       "      <td>512</td>\n",
       "      <td>Спорт и отдых</td>\n",
       "      <td>Ставропольский край</td>\n",
       "      <td>4723</td>\n",
       "      <td>3</td>\n",
       "      <td>0.03</td>\n",
       "    </tr>\n",
       "    <tr>\n",
       "      <th>4</th>\n",
       "      <td>49798299</td>\n",
       "      <td>2017-09-08</td>\n",
       "      <td>512</td>\n",
       "      <td>Красота</td>\n",
       "      <td>Ставропольский край</td>\n",
       "      <td>1936</td>\n",
       "      <td>3</td>\n",
       "      <td>0.00</td>\n",
       "    </tr>\n",
       "  </tbody>\n",
       "</table>\n",
       "</div>"
      ],
      "text/plain": [
       "   order_id        date  customer_id         category               region  \\\n",
       "0  59570135  2017-10-16          512   Одежда и обувь  Ставропольский край   \n",
       "1  16578697  2017-07-18          512   Одежда и обувь  Ставропольский край   \n",
       "2  46943601  2017-07-05          512  Бытовая техника  Ставропольский край   \n",
       "3  42436035  2017-02-18          512    Спорт и отдых  Ставропольский край   \n",
       "4  49798299  2017-09-08          512          Красота  Ставропольский край   \n",
       "\n",
       "   sales  quantity  discount  \n",
       "0   1301         2      0.00  \n",
       "1   3530         4      0.05  \n",
       "2   5773         1      0.10  \n",
       "3   4723         3      0.03  \n",
       "4   1936         3      0.00  "
      ]
     },
     "execution_count": 62,
     "metadata": {},
     "output_type": "execute_result"
    }
   ],
   "source": [
    "data = pd.read_csv('sales_v2.csv') #upload dataframe\n",
    "data.head() #display first five rows of the dataframe"
   ]
  },
  {
   "cell_type": "code",
   "execution_count": 63,
   "id": "fb7d4983",
   "metadata": {},
   "outputs": [],
   "source": [
    "import matplotlib.pyplot as plt #import matplotlib library"
   ]
  },
  {
   "cell_type": "code",
   "execution_count": 64,
   "id": "27b7c6ca",
   "metadata": {},
   "outputs": [
    {
     "data": {
      "text/html": [
       "<div>\n",
       "<style scoped>\n",
       "    .dataframe tbody tr th:only-of-type {\n",
       "        vertical-align: middle;\n",
       "    }\n",
       "\n",
       "    .dataframe tbody tr th {\n",
       "        vertical-align: top;\n",
       "    }\n",
       "\n",
       "    .dataframe thead th {\n",
       "        text-align: right;\n",
       "    }\n",
       "</style>\n",
       "<table border=\"1\" class=\"dataframe\">\n",
       "  <thead>\n",
       "    <tr style=\"text-align: right;\">\n",
       "      <th></th>\n",
       "      <th>region</th>\n",
       "      <th>rows_number</th>\n",
       "    </tr>\n",
       "  </thead>\n",
       "  <tbody>\n",
       "    <tr>\n",
       "      <th>0</th>\n",
       "      <td>Амурская область</td>\n",
       "      <td>218842</td>\n",
       "    </tr>\n",
       "    <tr>\n",
       "      <th>1</th>\n",
       "      <td>Московская область</td>\n",
       "      <td>217496</td>\n",
       "    </tr>\n",
       "    <tr>\n",
       "      <th>2</th>\n",
       "      <td>Хабаровский край</td>\n",
       "      <td>174621</td>\n",
       "    </tr>\n",
       "    <tr>\n",
       "      <th>3</th>\n",
       "      <td>Ленинградская область</td>\n",
       "      <td>173933</td>\n",
       "    </tr>\n",
       "    <tr>\n",
       "      <th>4</th>\n",
       "      <td>Приморский край</td>\n",
       "      <td>132490</td>\n",
       "    </tr>\n",
       "    <tr>\n",
       "      <th>5</th>\n",
       "      <td>Краснодарский край</td>\n",
       "      <td>131607</td>\n",
       "    </tr>\n",
       "    <tr>\n",
       "      <th>6</th>\n",
       "      <td>Иркутская область</td>\n",
       "      <td>130660</td>\n",
       "    </tr>\n",
       "    <tr>\n",
       "      <th>7</th>\n",
       "      <td>Ставропольский край</td>\n",
       "      <td>109183</td>\n",
       "    </tr>\n",
       "    <tr>\n",
       "      <th>8</th>\n",
       "      <td>Владимирская область</td>\n",
       "      <td>89251</td>\n",
       "    </tr>\n",
       "    <tr>\n",
       "      <th>9</th>\n",
       "      <td>Красноярский край</td>\n",
       "      <td>88954</td>\n",
       "    </tr>\n",
       "    <tr>\n",
       "      <th>10</th>\n",
       "      <td>Смоленская область</td>\n",
       "      <td>87155</td>\n",
       "    </tr>\n",
       "  </tbody>\n",
       "</table>\n",
       "</div>"
      ],
      "text/plain": [
       "                   region  rows_number\n",
       "0        Амурская область       218842\n",
       "1      Московская область       217496\n",
       "2        Хабаровский край       174621\n",
       "3   Ленинградская область       173933\n",
       "4         Приморский край       132490\n",
       "5      Краснодарский край       131607\n",
       "6       Иркутская область       130660\n",
       "7     Ставропольский край       109183\n",
       "8    Владимирская область        89251\n",
       "9       Красноярский край        88954\n",
       "10     Смоленская область        87155"
      ]
     },
     "execution_count": 64,
     "metadata": {},
     "output_type": "execute_result"
    }
   ],
   "source": [
    "data_1 = data['region'].value_counts().to_frame(name='rows_number') #count rows in each region \n",
    "data_1.reset_index(inplace= True) #drop index\n",
    "data_1 #display data_1"
   ]
  },
  {
   "cell_type": "code",
   "execution_count": 65,
   "id": "7383da2a",
   "metadata": {
    "scrolled": true
   },
   "outputs": [
    {
     "data": {
      "image/png": "[encoded data removed]",
      "text/plain": [
       "<Figure size 1000x500 with 1 Axes>"
      ]
     },
     "metadata": {},
     "output_type": "display_data"
    }
   ],
   "source": [
    "#building a distribution bar chart\n",
    "\n",
    "plt.figure(figsize=(10, 5))\n",
    "\n",
    "x = data_1['region']\n",
    "y = data_1['rows_number']\n",
    "\n",
    "plt.bar(x, y, label='Region')\n",
    "plt.ylabel('Number of rows')\n",
    "plt.legend()\n",
    "plt.xticks(rotation=90)\n",
    "plt.show()"
   ]
  },
  {
   "cell_type": "code",
   "execution_count": 66,
   "id": "c9eed644",
   "metadata": {},
   "outputs": [
    {
     "name": "stdout",
     "output_type": "stream",
     "text": [
      "<class 'pandas.core.frame.DataFrame'>\n",
      "RangeIndex: 1554192 entries, 0 to 1554191\n",
      "Data columns (total 8 columns):\n",
      " #   Column       Non-Null Count    Dtype  \n",
      "---  ------       --------------    -----  \n",
      " 0   order_id     1554192 non-null  int64  \n",
      " 1   date         1554192 non-null  object \n",
      " 2   customer_id  1554192 non-null  int64  \n",
      " 3   category     1554192 non-null  object \n",
      " 4   region       1554192 non-null  object \n",
      " 5   sales        1554192 non-null  int64  \n",
      " 6   quantity     1554192 non-null  int64  \n",
      " 7   discount     1554192 non-null  float64\n",
      "dtypes: float64(1), int64(4), object(3)\n",
      "memory usage: 94.9+ MB\n"
     ]
    }
   ],
   "source": [
    "data.info() #get information about the dataframe"
   ]
  },
  {
   "cell_type": "code",
   "execution_count": 67,
   "id": "b2d433fa",
   "metadata": {},
   "outputs": [
    {
     "data": {
      "text/html": [
       "<div>\n",
       "<style scoped>\n",
       "    .dataframe tbody tr th:only-of-type {\n",
       "        vertical-align: middle;\n",
       "    }\n",
       "\n",
       "    .dataframe tbody tr th {\n",
       "        vertical-align: top;\n",
       "    }\n",
       "\n",
       "    .dataframe thead th {\n",
       "        text-align: right;\n",
       "    }\n",
       "</style>\n",
       "<table border=\"1\" class=\"dataframe\">\n",
       "  <thead>\n",
       "    <tr style=\"text-align: right;\">\n",
       "      <th></th>\n",
       "      <th>order_id</th>\n",
       "      <th>date</th>\n",
       "      <th>customer_id</th>\n",
       "      <th>category</th>\n",
       "      <th>region</th>\n",
       "      <th>sales</th>\n",
       "      <th>quantity</th>\n",
       "      <th>discount</th>\n",
       "      <th>month</th>\n",
       "    </tr>\n",
       "  </thead>\n",
       "  <tbody>\n",
       "    <tr>\n",
       "      <th>0</th>\n",
       "      <td>59570135</td>\n",
       "      <td>2017-10-16</td>\n",
       "      <td>512</td>\n",
       "      <td>Одежда и обувь</td>\n",
       "      <td>Ставропольский край</td>\n",
       "      <td>1301</td>\n",
       "      <td>2</td>\n",
       "      <td>0.00</td>\n",
       "      <td>2017-10</td>\n",
       "    </tr>\n",
       "    <tr>\n",
       "      <th>1</th>\n",
       "      <td>16578697</td>\n",
       "      <td>2017-07-18</td>\n",
       "      <td>512</td>\n",
       "      <td>Одежда и обувь</td>\n",
       "      <td>Ставропольский край</td>\n",
       "      <td>3530</td>\n",
       "      <td>4</td>\n",
       "      <td>0.05</td>\n",
       "      <td>2017-07</td>\n",
       "    </tr>\n",
       "    <tr>\n",
       "      <th>2</th>\n",
       "      <td>46943601</td>\n",
       "      <td>2017-07-05</td>\n",
       "      <td>512</td>\n",
       "      <td>Бытовая техника</td>\n",
       "      <td>Ставропольский край</td>\n",
       "      <td>5773</td>\n",
       "      <td>1</td>\n",
       "      <td>0.10</td>\n",
       "      <td>2017-07</td>\n",
       "    </tr>\n",
       "    <tr>\n",
       "      <th>3</th>\n",
       "      <td>42436035</td>\n",
       "      <td>2017-02-18</td>\n",
       "      <td>512</td>\n",
       "      <td>Спорт и отдых</td>\n",
       "      <td>Ставропольский край</td>\n",
       "      <td>4723</td>\n",
       "      <td>3</td>\n",
       "      <td>0.03</td>\n",
       "      <td>2017-02</td>\n",
       "    </tr>\n",
       "    <tr>\n",
       "      <th>4</th>\n",
       "      <td>49798299</td>\n",
       "      <td>2017-09-08</td>\n",
       "      <td>512</td>\n",
       "      <td>Красота</td>\n",
       "      <td>Ставропольский край</td>\n",
       "      <td>1936</td>\n",
       "      <td>3</td>\n",
       "      <td>0.00</td>\n",
       "      <td>2017-09</td>\n",
       "    </tr>\n",
       "  </tbody>\n",
       "</table>\n",
       "</div>"
      ],
      "text/plain": [
       "   order_id        date  customer_id         category               region  \\\n",
       "0  59570135  2017-10-16          512   Одежда и обувь  Ставропольский край   \n",
       "1  16578697  2017-07-18          512   Одежда и обувь  Ставропольский край   \n",
       "2  46943601  2017-07-05          512  Бытовая техника  Ставропольский край   \n",
       "3  42436035  2017-02-18          512    Спорт и отдых  Ставропольский край   \n",
       "4  49798299  2017-09-08          512          Красота  Ставропольский край   \n",
       "\n",
       "   sales  quantity  discount    month  \n",
       "0   1301         2      0.00  2017-10  \n",
       "1   3530         4      0.05  2017-07  \n",
       "2   5773         1      0.10  2017-07  \n",
       "3   4723         3      0.03  2017-02  \n",
       "4   1936         3      0.00  2017-09  "
      ]
     },
     "execution_count": 67,
     "metadata": {},
     "output_type": "execute_result"
    }
   ],
   "source": [
    "#drop days from column month\n",
    "\n",
    "data['month'] = data['date'].str.slice(start=0, stop=7)\n",
    "data.head()"
   ]
  },
  {
   "cell_type": "code",
   "execution_count": 68,
   "id": "539cb46f",
   "metadata": {},
   "outputs": [
    {
     "data": {
      "text/html": [
       "<div>\n",
       "<style scoped>\n",
       "    .dataframe tbody tr th:only-of-type {\n",
       "        vertical-align: middle;\n",
       "    }\n",
       "\n",
       "    .dataframe tbody tr th {\n",
       "        vertical-align: top;\n",
       "    }\n",
       "\n",
       "    .dataframe thead th {\n",
       "        text-align: right;\n",
       "    }\n",
       "</style>\n",
       "<table border=\"1\" class=\"dataframe\">\n",
       "  <thead>\n",
       "    <tr style=\"text-align: right;\">\n",
       "      <th></th>\n",
       "      <th>region</th>\n",
       "      <th>month</th>\n",
       "      <th>sales</th>\n",
       "    </tr>\n",
       "  </thead>\n",
       "  <tbody>\n",
       "    <tr>\n",
       "      <th>0</th>\n",
       "      <td>Амурская область</td>\n",
       "      <td>2017-01</td>\n",
       "      <td>13892593</td>\n",
       "    </tr>\n",
       "    <tr>\n",
       "      <th>1</th>\n",
       "      <td>Амурская область</td>\n",
       "      <td>2017-02</td>\n",
       "      <td>18513597</td>\n",
       "    </tr>\n",
       "    <tr>\n",
       "      <th>2</th>\n",
       "      <td>Амурская область</td>\n",
       "      <td>2017-03</td>\n",
       "      <td>26154950</td>\n",
       "    </tr>\n",
       "    <tr>\n",
       "      <th>3</th>\n",
       "      <td>Амурская область</td>\n",
       "      <td>2017-04</td>\n",
       "      <td>30880044</td>\n",
       "    </tr>\n",
       "    <tr>\n",
       "      <th>4</th>\n",
       "      <td>Амурская область</td>\n",
       "      <td>2017-05</td>\n",
       "      <td>35140301</td>\n",
       "    </tr>\n",
       "    <tr>\n",
       "      <th>...</th>\n",
       "      <td>...</td>\n",
       "      <td>...</td>\n",
       "      <td>...</td>\n",
       "    </tr>\n",
       "    <tr>\n",
       "      <th>369</th>\n",
       "      <td>Хабаровский край</td>\n",
       "      <td>2019-06</td>\n",
       "      <td>27884589</td>\n",
       "    </tr>\n",
       "    <tr>\n",
       "      <th>370</th>\n",
       "      <td>Хабаровский край</td>\n",
       "      <td>2019-07</td>\n",
       "      <td>27770391</td>\n",
       "    </tr>\n",
       "    <tr>\n",
       "      <th>371</th>\n",
       "      <td>Хабаровский край</td>\n",
       "      <td>2019-08</td>\n",
       "      <td>23312918</td>\n",
       "    </tr>\n",
       "    <tr>\n",
       "      <th>372</th>\n",
       "      <td>Хабаровский край</td>\n",
       "      <td>2019-09</td>\n",
       "      <td>18538074</td>\n",
       "    </tr>\n",
       "    <tr>\n",
       "      <th>373</th>\n",
       "      <td>Хабаровский край</td>\n",
       "      <td>2019-10</td>\n",
       "      <td>14210932</td>\n",
       "    </tr>\n",
       "  </tbody>\n",
       "</table>\n",
       "<p>374 rows × 3 columns</p>\n",
       "</div>"
      ],
      "text/plain": [
       "               region    month     sales\n",
       "0    Амурская область  2017-01  13892593\n",
       "1    Амурская область  2017-02  18513597\n",
       "2    Амурская область  2017-03  26154950\n",
       "3    Амурская область  2017-04  30880044\n",
       "4    Амурская область  2017-05  35140301\n",
       "..                ...      ...       ...\n",
       "369  Хабаровский край  2019-06  27884589\n",
       "370  Хабаровский край  2019-07  27770391\n",
       "371  Хабаровский край  2019-08  23312918\n",
       "372  Хабаровский край  2019-09  18538074\n",
       "373  Хабаровский край  2019-10  14210932\n",
       "\n",
       "[374 rows x 3 columns]"
      ]
     },
     "execution_count": 68,
     "metadata": {},
     "output_type": "execute_result"
    }
   ],
   "source": [
    "#create dataframe 'sales_region' where has been counted sales for each region and month\n",
    "\n",
    "sales_region = data.groupby(['region', 'month'])['sales'].sum().reset_index()\n",
    "sales_region"
   ]
  },
  {
   "cell_type": "code",
   "execution_count": 69,
   "id": "db24800e",
   "metadata": {},
   "outputs": [
    {
     "data": {
      "application/vnd.plotly.v1+json": {
       "config": {
        "plotlyServerURL": "https://plot.ly"
       },
       "data": [
        {
         "hovertemplate": "region=Амурская область<br>month=%{x}<br>sales=%{y}<extra></extra>",
         "legendgroup": "Амурская область",
         "line": {
          "color": "#636efa",
          "dash": "solid"
         },
         "marker": {
          "symbol": "circle"
         },
         "mode": "lines",
         "name": "Амурская область",
         "orientation": "v",
         "showlegend": true,
         "type": "scatter",
         "x": [
          "2017-01",
          "2017-02",
          "2017-03",
          "2017-04",
          "2017-05",
          "2017-06",
          "2017-07",
          "2017-08",
          "2017-09",
          "2017-10",
          "2017-11",
          "2017-12",
          "2018-01",
          "2018-02",
          "2018-03",
          "2018-04",
          "2018-05",
          "2018-06",
          "2018-07",
          "2018-08",
          "2018-09",
          "2018-10",
          "2018-11",
          "2018-12",
          "2019-01",
          "2019-02",
          "2019-03",
          "2019-04",
          "2019-05",
          "2019-06",
          "2019-07",
          "2019-08",
          "2019-09",
          "2019-10"
         ],
         "xaxis": "x",
         "y": [
          13892593,
          18513597,
          26154950,
          30880044,
          35140301,
          36163056,
          34882005,
          31269087,
          24399286,
          20375199,
          16654177,
          16618265,
          18686662,
          20801870,
          28262592,
          32162444,
          36570812,
          35639952,
          35105554,
          30758494,
          24919829,
          20180195,
          16439502,
          17825212,
          19921230,
          19832517,
          27698756,
          31597095,
          37327765,
          35655848,
          34693005,
          30806422,
          23412578,
          18112817
         ],
         "yaxis": "y"
        },
        {
         "hovertemplate": "region=Владимирская область<br>month=%{x}<br>sales=%{y}<extra></extra>",
         "legendgroup": "Владимирская область",
         "line": {
          "color": "#EF553B",
          "dash": "solid"
         },
         "marker": {
          "symbol": "circle"
         },
         "mode": "lines",
         "name": "Владимирская область",
         "orientation": "v",
         "showlegend": true,
         "type": "scatter",
         "x": [
          "2017-01",
          "2017-02",
          "2017-03",
          "2017-04",
          "2017-05",
          "2017-06",
          "2017-07",
          "2017-08",
          "2017-09",
          "2017-10",
          "2017-11",
          "2017-12",
          "2018-01",
          "2018-02",
          "2018-03",
          "2018-04",
          "2018-05",
          "2018-06",
          "2018-07",
          "2018-08",
          "2018-09",
          "2018-10",
          "2018-11",
          "2018-12",
          "2019-01",
          "2019-02",
          "2019-03",
          "2019-04",
          "2019-05",
          "2019-06",
          "2019-07",
          "2019-08",
          "2019-09",
          "2019-10"
         ],
         "xaxis": "x",
         "y": [
          5268105,
          6771637,
          10171577,
          12737164,
          14113944,
          14650277,
          14042982,
          11852614,
          10315032,
          8345524,
          7096783,
          6901647,
          8347797,
          9036281,
          11038092,
          13524334,
          15084637,
          15141533,
          15278900,
          12503641,
          10934856,
          8414741,
          6872808,
          7091611,
          7995227,
          8441091,
          11179867,
          13121558,
          13987430,
          15207215,
          13999744,
          11861188,
          9346777,
          8058144
         ],
         "yaxis": "y"
        },
        {
         "hovertemplate": "region=Иркутская область<br>month=%{x}<br>sales=%{y}<extra></extra>",
         "legendgroup": "Иркутская область",
         "line": {
          "color": "#00cc96",
          "dash": "solid"
         },
         "marker": {
          "symbol": "circle"
         },
         "mode": "lines",
         "name": "Иркутская область",
         "orientation": "v",
         "showlegend": true,
         "type": "scatter",
         "x": [
          "2017-01",
          "2017-02",
          "2017-03",
          "2017-04",
          "2017-05",
          "2017-06",
          "2017-07",
          "2017-08",
          "2017-09",
          "2017-10",
          "2017-11",
          "2017-12",
          "2018-01",
          "2018-02",
          "2018-03",
          "2018-04",
          "2018-05",
          "2018-06",
          "2018-07",
          "2018-08",
          "2018-09",
          "2018-10",
          "2018-11",
          "2018-12",
          "2019-01",
          "2019-02",
          "2019-03",
          "2019-04",
          "2019-05",
          "2019-06",
          "2019-07",
          "2019-08",
          "2019-09",
          "2019-10"
         ],
         "xaxis": "x",
         "y": [
          8489321,
          10631759,
          15561221,
          18075669,
          20831187,
          21374178,
          21191349,
          18201983,
          15037018,
          12164944,
          9822714,
          10240170,
          11353570,
          11769753,
          17754685,
          19436321,
          21360283,
          21614212,
          20517232,
          18640289,
          15126525,
          12647073,
          9830494,
          10035234,
          11015416,
          12229403,
          16353367,
          18322317,
          21943133,
          21404685,
          21020178,
          18654486,
          13863857,
          10508332
         ],
         "yaxis": "y"
        },
        {
         "hovertemplate": "region=Краснодарский край<br>month=%{x}<br>sales=%{y}<extra></extra>",
         "legendgroup": "Краснодарский край",
         "line": {
          "color": "#ab63fa",
          "dash": "solid"
         },
         "marker": {
          "symbol": "circle"
         },
         "mode": "lines",
         "name": "Краснодарский край",
         "orientation": "v",
         "showlegend": true,
         "type": "scatter",
         "x": [
          "2017-01",
          "2017-02",
          "2017-03",
          "2017-04",
          "2017-05",
          "2017-06",
          "2017-07",
          "2017-08",
          "2017-09",
          "2017-10",
          "2017-11",
          "2017-12",
          "2018-01",
          "2018-02",
          "2018-03",
          "2018-04",
          "2018-05",
          "2018-06",
          "2018-07",
          "2018-08",
          "2018-09",
          "2018-10",
          "2018-11",
          "2018-12",
          "2019-01",
          "2019-02",
          "2019-03",
          "2019-04",
          "2019-05",
          "2019-06",
          "2019-07",
          "2019-08",
          "2019-09",
          "2019-10"
         ],
         "xaxis": "x",
         "y": [
          8384608,
          10171544,
          15473265,
          18652501,
          21734041,
          22005001,
          20632568,
          19144364,
          15336161,
          12622585,
          10313999,
          10173871,
          11809716,
          12323701,
          16647221,
          18457938,
          21886341,
          21922982,
          21669742,
          19206562,
          15675833,
          12362549,
          10479147,
          9971532,
          11735644,
          11878690,
          16521385,
          18914155,
          21211386,
          21076817,
          20805274,
          17983430,
          14142131,
          10679506
         ],
         "yaxis": "y"
        },
        {
         "hovertemplate": "region=Красноярский край<br>month=%{x}<br>sales=%{y}<extra></extra>",
         "legendgroup": "Красноярский край",
         "line": {
          "color": "#FFA15A",
          "dash": "solid"
         },
         "marker": {
          "symbol": "circle"
         },
         "mode": "lines",
         "name": "Красноярский край",
         "orientation": "v",
         "showlegend": true,
         "type": "scatter",
         "x": [
          "2017-01",
          "2017-02",
          "2017-03",
          "2017-04",
          "2017-05",
          "2017-06",
          "2017-07",
          "2017-08",
          "2017-09",
          "2017-10",
          "2017-11",
          "2017-12",
          "2018-01",
          "2018-02",
          "2018-03",
          "2018-04",
          "2018-05",
          "2018-06",
          "2018-07",
          "2018-08",
          "2018-09",
          "2018-10",
          "2018-11",
          "2018-12",
          "2019-01",
          "2019-02",
          "2019-03",
          "2019-04",
          "2019-05",
          "2019-06",
          "2019-07",
          "2019-08",
          "2019-09",
          "2019-10"
         ],
         "xaxis": "x",
         "y": [
          5333002,
          7657826,
          10389136,
          12348815,
          14505054,
          14014238,
          13732467,
          12484251,
          9489864,
          8487996,
          6837623,
          6895197,
          8028802,
          8599288,
          11096435,
          13220273,
          14366136,
          14401961,
          14143936,
          12450101,
          10083065,
          8581572,
          7238917,
          6790791,
          7856273,
          7934014,
          11203368,
          13805087,
          15223841,
          14879039,
          14219330,
          12680605,
          9490494,
          7620870
         ],
         "yaxis": "y"
        },
        {
         "hovertemplate": "region=Ленинградская область<br>month=%{x}<br>sales=%{y}<extra></extra>",
         "legendgroup": "Ленинградская область",
         "line": {
          "color": "#19d3f3",
          "dash": "solid"
         },
         "marker": {
          "symbol": "circle"
         },
         "mode": "lines",
         "name": "Ленинградская область",
         "orientation": "v",
         "showlegend": true,
         "type": "scatter",
         "x": [
          "2017-01",
          "2017-02",
          "2017-03",
          "2017-04",
          "2017-05",
          "2017-06",
          "2017-07",
          "2017-08",
          "2017-09",
          "2017-10",
          "2017-11",
          "2017-12",
          "2018-01",
          "2018-02",
          "2018-03",
          "2018-04",
          "2018-05",
          "2018-06",
          "2018-07",
          "2018-08",
          "2018-09",
          "2018-10",
          "2018-11",
          "2018-12",
          "2019-01",
          "2019-02",
          "2019-03",
          "2019-04",
          "2019-05",
          "2019-06",
          "2019-07",
          "2019-08",
          "2019-09",
          "2019-10"
         ],
         "xaxis": "x",
         "y": [
          11774246,
          14783259,
          20560103,
          24409372,
          28126134,
          28306585,
          28575484,
          24567998,
          19924661,
          16480578,
          13692374,
          13432920,
          15021962,
          16012249,
          21550940,
          25305431,
          28201433,
          27968480,
          27365578,
          24301841,
          19361865,
          16478890,
          13671773,
          13685364,
          15020605,
          16727831,
          22452278,
          24856189,
          29678782,
          27886202,
          27117774,
          23616419,
          19485593,
          14441533
         ],
         "yaxis": "y"
        },
        {
         "hovertemplate": "region=Московская область<br>month=%{x}<br>sales=%{y}<extra></extra>",
         "legendgroup": "Московская область",
         "line": {
          "color": "#FF6692",
          "dash": "solid"
         },
         "marker": {
          "symbol": "circle"
         },
         "mode": "lines",
         "name": "Московская область",
         "orientation": "v",
         "showlegend": true,
         "type": "scatter",
         "x": [
          "2017-01",
          "2017-02",
          "2017-03",
          "2017-04",
          "2017-05",
          "2017-06",
          "2017-07",
          "2017-08",
          "2017-09",
          "2017-10",
          "2017-11",
          "2017-12",
          "2018-01",
          "2018-02",
          "2018-03",
          "2018-04",
          "2018-05",
          "2018-06",
          "2018-07",
          "2018-08",
          "2018-09",
          "2018-10",
          "2018-11",
          "2018-12",
          "2019-01",
          "2019-02",
          "2019-03",
          "2019-04",
          "2019-05",
          "2019-06",
          "2019-07",
          "2019-08",
          "2019-09",
          "2019-10"
         ],
         "xaxis": "x",
         "y": [
          15223197,
          18057297,
          25725467,
          30142204,
          34658370,
          35622007,
          34941542,
          30450344,
          24699749,
          19937245,
          17112004,
          16384147,
          18942528,
          20611209,
          28265898,
          31300981,
          35081781,
          35497215,
          35405562,
          29954056,
          24337517,
          21203956,
          16668569,
          17380991,
          18486582,
          20501636,
          27367836,
          31242523,
          36012299,
          35662642,
          35245437,
          30322775,
          23258452,
          18560872
         ],
         "yaxis": "y"
        },
        {
         "hovertemplate": "region=Приморский край<br>month=%{x}<br>sales=%{y}<extra></extra>",
         "legendgroup": "Приморский край",
         "line": {
          "color": "#B6E880",
          "dash": "solid"
         },
         "marker": {
          "symbol": "circle"
         },
         "mode": "lines",
         "name": "Приморский край",
         "orientation": "v",
         "showlegend": true,
         "type": "scatter",
         "x": [
          "2017-01",
          "2017-02",
          "2017-03",
          "2017-04",
          "2017-05",
          "2017-06",
          "2017-07",
          "2017-08",
          "2017-09",
          "2017-10",
          "2017-11",
          "2017-12",
          "2018-01",
          "2018-02",
          "2018-03",
          "2018-04",
          "2018-05",
          "2018-06",
          "2018-07",
          "2018-08",
          "2018-09",
          "2018-10",
          "2018-11",
          "2018-12",
          "2019-01",
          "2019-02",
          "2019-03",
          "2019-04",
          "2019-05",
          "2019-06",
          "2019-07",
          "2019-08",
          "2019-09",
          "2019-10"
         ],
         "xaxis": "x",
         "y": [
          8811429,
          11065658,
          16099579,
          19246367,
          22482274,
          21458331,
          21562793,
          18376097,
          15103136,
          12884427,
          10191965,
          10207766,
          11975274,
          12651872,
          16775925,
          18939798,
          22239277,
          21713806,
          20631947,
          18324975,
          15181533,
          12716136,
          10721653,
          9984776,
          11528458,
          12306702,
          16689416,
          18890572,
          21799257,
          22003853,
          21608019,
          17582269,
          14265673,
          10595997
         ],
         "yaxis": "y"
        },
        {
         "hovertemplate": "region=Смоленская область<br>month=%{x}<br>sales=%{y}<extra></extra>",
         "legendgroup": "Смоленская область",
         "line": {
          "color": "#FF97FF",
          "dash": "solid"
         },
         "marker": {
          "symbol": "circle"
         },
         "mode": "lines",
         "name": "Смоленская область",
         "orientation": "v",
         "showlegend": true,
         "type": "scatter",
         "x": [
          "2017-01",
          "2017-02",
          "2017-03",
          "2017-04",
          "2017-05",
          "2017-06",
          "2017-07",
          "2017-08",
          "2017-09",
          "2017-10",
          "2017-11",
          "2017-12",
          "2018-01",
          "2018-02",
          "2018-03",
          "2018-04",
          "2018-05",
          "2018-06",
          "2018-07",
          "2018-08",
          "2018-09",
          "2018-10",
          "2018-11",
          "2018-12",
          "2019-01",
          "2019-02",
          "2019-03",
          "2019-04",
          "2019-05",
          "2019-06",
          "2019-07",
          "2019-08",
          "2019-09",
          "2019-10"
         ],
         "xaxis": "x",
         "y": [
          5359025,
          7505239,
          10365824,
          12521319,
          13644845,
          14129378,
          13843372,
          13037091,
          10012444,
          8225682,
          6540350,
          7394629,
          7325317,
          7858580,
          11222525,
          12996552,
          13821678,
          14442876,
          13903693,
          11505545,
          10557258,
          8424326,
          6972656,
          6333703,
          7607672,
          8098299,
          11317196,
          12093813,
          14565658,
          14126357,
          13863133,
          11547227,
          9228205,
          7390256
         ],
         "yaxis": "y"
        },
        {
         "hovertemplate": "region=Ставропольский край<br>month=%{x}<br>sales=%{y}<extra></extra>",
         "legendgroup": "Ставропольский край",
         "line": {
          "color": "#FECB52",
          "dash": "solid"
         },
         "marker": {
          "symbol": "circle"
         },
         "mode": "lines",
         "name": "Ставропольский край",
         "orientation": "v",
         "showlegend": true,
         "type": "scatter",
         "x": [
          "2017-01",
          "2017-02",
          "2017-03",
          "2017-04",
          "2017-05",
          "2017-06",
          "2017-07",
          "2017-08",
          "2017-09",
          "2017-10",
          "2017-11",
          "2017-12",
          "2018-01",
          "2018-02",
          "2018-03",
          "2018-04",
          "2018-05",
          "2018-06",
          "2018-07",
          "2018-08",
          "2018-09",
          "2018-10",
          "2018-11",
          "2018-12",
          "2019-01",
          "2019-02",
          "2019-03",
          "2019-04",
          "2019-05",
          "2019-06",
          "2019-07",
          "2019-08",
          "2019-09",
          "2019-10"
         ],
         "xaxis": "x",
         "y": [
          6642702,
          8519759,
          12655900,
          15361115,
          17263507,
          17807590,
          17211078,
          15617153,
          12485050,
          9572207,
          8485631,
          8081761,
          9491887,
          10113273,
          13928211,
          16124896,
          18317470,
          18279801,
          17033240,
          15359792,
          12999943,
          10551623,
          8493005,
          8368889,
          9794100,
          10070789,
          14103239,
          15999331,
          17757712,
          17733407,
          17651205,
          15782461,
          11626984,
          9308110
         ],
         "yaxis": "y"
        },
        {
         "hovertemplate": "region=Хабаровский край<br>month=%{x}<br>sales=%{y}<extra></extra>",
         "legendgroup": "Хабаровский край",
         "line": {
          "color": "#636efa",
          "dash": "solid"
         },
         "marker": {
          "symbol": "circle"
         },
         "mode": "lines",
         "name": "Хабаровский край",
         "orientation": "v",
         "showlegend": true,
         "type": "scatter",
         "x": [
          "2017-01",
          "2017-02",
          "2017-03",
          "2017-04",
          "2017-05",
          "2017-06",
          "2017-07",
          "2017-08",
          "2017-09",
          "2017-10",
          "2017-11",
          "2017-12",
          "2018-01",
          "2018-02",
          "2018-03",
          "2018-04",
          "2018-05",
          "2018-06",
          "2018-07",
          "2018-08",
          "2018-09",
          "2018-10",
          "2018-11",
          "2018-12",
          "2019-01",
          "2019-02",
          "2019-03",
          "2019-04",
          "2019-05",
          "2019-06",
          "2019-07",
          "2019-08",
          "2019-09",
          "2019-10"
         ],
         "xaxis": "x",
         "y": [
          11406274,
          13673627,
          20452725,
          24227324,
          27950876,
          28429591,
          27249626,
          24493186,
          19534422,
          16671406,
          13601105,
          13390462,
          15445928,
          16301981,
          22232839,
          26094588,
          29892138,
          29789094,
          28570691,
          24289937,
          20360332,
          16690127,
          13805042,
          13501771,
          14720722,
          15685484,
          21501014,
          24841985,
          28767990,
          27884589,
          27770391,
          23312918,
          18538074,
          14210932
         ],
         "yaxis": "y"
        }
       ],
       "layout": {
        "legend": {
         "title": {
          "text": "region"
         },
         "tracegroupgap": 0
        },
        "margin": {
         "t": 60
        },
        "template": {
         "data": {
          "bar": [
           {
            "error_x": {
             "color": "#2a3f5f"
            },
            "error_y": {
             "color": "#2a3f5f"
            },
            "marker": {
             "line": {
              "color": "#E5ECF6",
              "width": 0.5
             },
             "pattern": {
              "fillmode": "overlay",
              "size": 10,
              "solidity": 0.2
             }
            },
            "type": "bar"
           }
          ],
          "barpolar": [
           {
            "marker": {
             "line": {
              "color": "#E5ECF6",
              "width": 0.5
             },
             "pattern": {
              "fillmode": "overlay",
              "size": 10,
              "solidity": 0.2
             }
            },
            "type": "barpolar"
           }
          ],
          "carpet": [
           {
            "aaxis": {
             "endlinecolor": "#2a3f5f",
             "gridcolor": "white",
             "linecolor": "white",
             "minorgridcolor": "white",
             "startlinecolor": "#2a3f5f"
            },
            "baxis": {
             "endlinecolor": "#2a3f5f",
             "gridcolor": "white",
             "linecolor": "white",
             "minorgridcolor": "white",
             "startlinecolor": "#2a3f5f"
            },
            "type": "carpet"
           }
          ],
          "choropleth": [
           {
            "colorbar": {
             "outlinewidth": 0,
             "ticks": ""
            },
            "type": "choropleth"
           }
          ],
          "contour": [
           {
            "colorbar": {
             "outlinewidth": 0,
             "ticks": ""
            },
            "colorscale": [
             [
              0,
              "#0d0887"
             ],
             [
              0.1111111111111111,
              "#46039f"
             ],
             [
              0.2222222222222222,
              "#7201a8"
             ],
             [
              0.3333333333333333,
              "#9c179e"
             ],
             [
              0.4444444444444444,
              "#bd3786"
             ],
             [
              0.5555555555555556,
              "#d8576b"
             ],
             [
              0.6666666666666666,
              "#ed7953"
             ],
             [
              0.7777777777777778,
              "#fb9f3a"
             ],
             [
              0.8888888888888888,
              "#fdca26"
             ],
             [
              1,
              "#f0f921"
             ]
            ],
            "type": "contour"
           }
          ],
          "contourcarpet": [
           {
            "colorbar": {
             "outlinewidth": 0,
             "ticks": ""
            },
            "type": "contourcarpet"
           }
          ],
          "heatmap": [
           {
            "colorbar": {
             "outlinewidth": 0,
             "ticks": ""
            },
            "colorscale": [
             [
              0,
              "#0d0887"
             ],
             [
              0.1111111111111111,
              "#46039f"
             ],
             [
              0.2222222222222222,
              "#7201a8"
             ],
             [
              0.3333333333333333,
              "#9c179e"
             ],
             [
              0.4444444444444444,
              "#bd3786"
             ],
             [
              0.5555555555555556,
              "#d8576b"
             ],
             [
              0.6666666666666666,
              "#ed7953"
             ],
             [
              0.7777777777777778,
              "#fb9f3a"
             ],
             [
              0.8888888888888888,
              "#fdca26"
             ],
             [
              1,
              "#f0f921"
             ]
            ],
            "type": "heatmap"
           }
          ],
          "heatmapgl": [
           {
            "colorbar": {
             "outlinewidth": 0,
             "ticks": ""
            },
            "colorscale": [
             [
              0,
              "#0d0887"
             ],
             [
              0.1111111111111111,
              "#46039f"
             ],
             [
              0.2222222222222222,
              "#7201a8"
             ],
             [
              0.3333333333333333,
              "#9c179e"
             ],
             [
              0.4444444444444444,
              "#bd3786"
             ],
             [
              0.5555555555555556,
              "#d8576b"
             ],
             [
              0.6666666666666666,
              "#ed7953"
             ],
             [
              0.7777777777777778,
              "#fb9f3a"
             ],
             [
              0.8888888888888888,
              "#fdca26"
             ],
             [
              1,
              "#f0f921"
             ]
            ],
            "type": "heatmapgl"
           }
          ],
          "histogram": [
           {
            "marker": {
             "pattern": {
              "fillmode": "overlay",
              "size": 10,
              "solidity": 0.2
             }
            },
            "type": "histogram"
           }
          ],
          "histogram2d": [
           {
            "colorbar": {
             "outlinewidth": 0,
             "ticks": ""
            },
            "colorscale": [
             [
              0,
              "#0d0887"
             ],
             [
              0.1111111111111111,
              "#46039f"
             ],
             [
              0.2222222222222222,
              "#7201a8"
             ],
             [
              0.3333333333333333,
              "#9c179e"
             ],
             [
              0.4444444444444444,
              "#bd3786"
             ],
             [
              0.5555555555555556,
              "#d8576b"
             ],
             [
              0.6666666666666666,
              "#ed7953"
             ],
             [
              0.7777777777777778,
              "#fb9f3a"
             ],
             [
              0.8888888888888888,
              "#fdca26"
             ],
             [
              1,
              "#f0f921"
             ]
            ],
            "type": "histogram2d"
           }
          ],
          "histogram2dcontour": [
           {
            "colorbar": {
             "outlinewidth": 0,
             "ticks": ""
            },
            "colorscale": [
             [
              0,
              "#0d0887"
             ],
             [
              0.1111111111111111,
              "#46039f"
             ],
             [
              0.2222222222222222,
              "#7201a8"
             ],
             [
              0.3333333333333333,
              "#9c179e"
             ],
             [
              0.4444444444444444,
              "#bd3786"
             ],
             [
              0.5555555555555556,
              "#d8576b"
             ],
             [
              0.6666666666666666,
              "#ed7953"
             ],
             [
              0.7777777777777778,
              "#fb9f3a"
             ],
             [
              0.8888888888888888,
              "#fdca26"
             ],
             [
              1,
              "#f0f921"
             ]
            ],
            "type": "histogram2dcontour"
           }
          ],
          "mesh3d": [
           {
            "colorbar": {
             "outlinewidth": 0,
             "ticks": ""
            },
            "type": "mesh3d"
           }
          ],
          "parcoords": [
           {
            "line": {
             "colorbar": {
              "outlinewidth": 0,
              "ticks": ""
             }
            },
            "type": "parcoords"
           }
          ],
          "pie": [
           {
            "automargin": true,
            "type": "pie"
           }
          ],
          "scatter": [
           {
            "fillpattern": {
             "fillmode": "overlay",
             "size": 10,
             "solidity": 0.2
            },
            "type": "scatter"
           }
          ],
          "scatter3d": [
           {
            "line": {
             "colorbar": {
              "outlinewidth": 0,
              "ticks": ""
             }
            },
            "marker": {
             "colorbar": {
              "outlinewidth": 0,
              "ticks": ""
             }
            },
            "type": "scatter3d"
           }
          ],
          "scattercarpet": [
           {
            "marker": {
             "colorbar": {
              "outlinewidth": 0,
              "ticks": ""
             }
            },
            "type": "scattercarpet"
           }
          ],
          "scattergeo": [
           {
            "marker": {
             "colorbar": {
              "outlinewidth": 0,
              "ticks": ""
             }
            },
            "type": "scattergeo"
           }
          ],
          "scattergl": [
           {
            "marker": {
             "colorbar": {
              "outlinewidth": 0,
              "ticks": ""
             }
            },
            "type": "scattergl"
           }
          ],
          "scattermapbox": [
           {
            "marker": {
             "colorbar": {
              "outlinewidth": 0,
              "ticks": ""
             }
            },
            "type": "scattermapbox"
           }
          ],
          "scatterpolar": [
           {
            "marker": {
             "colorbar": {
              "outlinewidth": 0,
              "ticks": ""
             }
            },
            "type": "scatterpolar"
           }
          ],
          "scatterpolargl": [
           {
            "marker": {
             "colorbar": {
              "outlinewidth": 0,
              "ticks": ""
             }
            },
            "type": "scatterpolargl"
           }
          ],
          "scatterternary": [
           {
            "marker": {
             "colorbar": {
              "outlinewidth": 0,
              "ticks": ""
             }
            },
            "type": "scatterternary"
           }
          ],
          "surface": [
           {
            "colorbar": {
             "outlinewidth": 0,
             "ticks": ""
            },
            "colorscale": [
             [
              0,
              "#0d0887"
             ],
             [
              0.1111111111111111,
              "#46039f"
             ],
             [
              0.2222222222222222,
              "#7201a8"
             ],
             [
              0.3333333333333333,
              "#9c179e"
             ],
             [
              0.4444444444444444,
              "#bd3786"
             ],
             [
              0.5555555555555556,
              "#d8576b"
             ],
             [
              0.6666666666666666,
              "#ed7953"
             ],
             [
              0.7777777777777778,
              "#fb9f3a"
             ],
             [
              0.8888888888888888,
              "#fdca26"
             ],
             [
              1,
              "#f0f921"
             ]
            ],
            "type": "surface"
           }
          ],
          "table": [
           {
            "cells": {
             "fill": {
              "color": "#EBF0F8"
             },
             "line": {
              "color": "white"
             }
            },
            "header": {
             "fill": {
              "color": "#C8D4E3"
             },
             "line": {
              "color": "white"
             }
            },
            "type": "table"
           }
          ]
         },
         "layout": {
          "annotationdefaults": {
           "arrowcolor": "#2a3f5f",
           "arrowhead": 0,
           "arrowwidth": 1
          },
          "autotypenumbers": "strict",
          "coloraxis": {
           "colorbar": {
            "outlinewidth": 0,
            "ticks": ""
           }
          },
          "colorscale": {
           "diverging": [
            [
             0,
             "#8e0152"
            ],
            [
             0.1,
             "#c51b7d"
            ],
            [
             0.2,
             "#de77ae"
            ],
            [
             0.3,
             "#f1b6da"
            ],
            [
             0.4,
             "#fde0ef"
            ],
            [
             0.5,
             "#f7f7f7"
            ],
            [
             0.6,
             "#e6f5d0"
            ],
            [
             0.7,
             "#b8e186"
            ],
            [
             0.8,
             "#7fbc41"
            ],
            [
             0.9,
             "#4d9221"
            ],
            [
             1,
             "#276419"
            ]
           ],
           "sequential": [
            [
             0,
             "#0d0887"
            ],
            [
             0.1111111111111111,
             "#46039f"
            ],
            [
             0.2222222222222222,
             "#7201a8"
            ],
            [
             0.3333333333333333,
             "#9c179e"
            ],
            [
             0.4444444444444444,
             "#bd3786"
            ],
            [
             0.5555555555555556,
             "#d8576b"
            ],
            [
             0.6666666666666666,
             "#ed7953"
            ],
            [
             0.7777777777777778,
             "#fb9f3a"
            ],
            [
             0.8888888888888888,
             "#fdca26"
            ],
            [
             1,
             "#f0f921"
            ]
           ],
           "sequentialminus": [
            [
             0,
             "#0d0887"
            ],
            [
             0.1111111111111111,
             "#46039f"
            ],
            [
             0.2222222222222222,
             "#7201a8"
            ],
            [
             0.3333333333333333,
             "#9c179e"
            ],
            [
             0.4444444444444444,
             "#bd3786"
            ],
            [
             0.5555555555555556,
             "#d8576b"
            ],
            [
             0.6666666666666666,
             "#ed7953"
            ],
            [
             0.7777777777777778,
             "#fb9f3a"
            ],
            [
             0.8888888888888888,
             "#fdca26"
            ],
            [
             1,
             "#f0f921"
            ]
           ]
          },
          "colorway": [
           "#636efa",
           "#EF553B",
           "#00cc96",
           "#ab63fa",
           "#FFA15A",
           "#19d3f3",
           "#FF6692",
           "#B6E880",
           "#FF97FF",
           "#FECB52"
          ],
          "font": {
           "color": "#2a3f5f"
          },
          "geo": {
           "bgcolor": "white",
           "lakecolor": "white",
           "landcolor": "#E5ECF6",
           "showlakes": true,
           "showland": true,
           "subunitcolor": "white"
          },
          "hoverlabel": {
           "align": "left"
          },
          "hovermode": "closest",
          "mapbox": {
           "style": "light"
          },
          "paper_bgcolor": "white",
          "plot_bgcolor": "#E5ECF6",
          "polar": {
           "angularaxis": {
            "gridcolor": "white",
            "linecolor": "white",
            "ticks": ""
           },
           "bgcolor": "#E5ECF6",
           "radialaxis": {
            "gridcolor": "white",
            "linecolor": "white",
            "ticks": ""
           }
          },
          "scene": {
           "xaxis": {
            "backgroundcolor": "#E5ECF6",
            "gridcolor": "white",
            "gridwidth": 2,
            "linecolor": "white",
            "showbackground": true,
            "ticks": "",
            "zerolinecolor": "white"
           },
           "yaxis": {
            "backgroundcolor": "#E5ECF6",
            "gridcolor": "white",
            "gridwidth": 2,
            "linecolor": "white",
            "showbackground": true,
            "ticks": "",
            "zerolinecolor": "white"
           },
           "zaxis": {
            "backgroundcolor": "#E5ECF6",
            "gridcolor": "white",
            "gridwidth": 2,
            "linecolor": "white",
            "showbackground": true,
            "ticks": "",
            "zerolinecolor": "white"
           }
          },
          "shapedefaults": {
           "line": {
            "color": "#2a3f5f"
           }
          },
          "ternary": {
           "aaxis": {
            "gridcolor": "white",
            "linecolor": "white",
            "ticks": ""
           },
           "baxis": {
            "gridcolor": "white",
            "linecolor": "white",
            "ticks": ""
           },
           "bgcolor": "#E5ECF6",
           "caxis": {
            "gridcolor": "white",
            "linecolor": "white",
            "ticks": ""
           }
          },
          "title": {
           "x": 0.05
          },
          "xaxis": {
           "automargin": true,
           "gridcolor": "white",
           "linecolor": "white",
           "ticks": "",
           "title": {
            "standoff": 15
           },
           "zerolinecolor": "white",
           "zerolinewidth": 2
          },
          "yaxis": {
           "automargin": true,
           "gridcolor": "white",
           "linecolor": "white",
           "ticks": "",
           "title": {
            "standoff": 15
           },
           "zerolinecolor": "white",
           "zerolinewidth": 2
          }
         }
        },
        "updatemenus": [
         {
          "buttons": [
           {
            "args": [
             {
              "visible": [
               true,
               true,
               true,
               true,
               true,
               true,
               true,
               true,
               true,
               true,
               true
              ]
             }
            ],
            "label": "All regions",
            "method": "restyle"
           },
           {
            "args": [
             {
              "visible": [
               true,
               false,
               false,
               false,
               false,
               false,
               false,
               false,
               false,
               false,
               false
              ]
             }
            ],
            "label": "Амурская область",
            "method": "restyle"
           },
           {
            "args": [
             {
              "visible": [
               false,
               true,
               false,
               false,
               false,
               false,
               false,
               false,
               false,
               false,
               false
              ]
             }
            ],
            "label": "Владимирская область",
            "method": "restyle"
           },
           {
            "args": [
             {
              "visible": [
               false,
               false,
               true,
               false,
               false,
               false,
               false,
               false,
               false,
               false,
               false
              ]
             }
            ],
            "label": "Иркутская область",
            "method": "restyle"
           },
           {
            "args": [
             {
              "visible": [
               false,
               false,
               false,
               true,
               false,
               false,
               false,
               false,
               false,
               false,
               false
              ]
             }
            ],
            "label": "Краснодарский край",
            "method": "restyle"
           },
           {
            "args": [
             {
              "visible": [
               false,
               false,
               false,
               false,
               true,
               false,
               false,
               false,
               false,
               false,
               false
              ]
             }
            ],
            "label": "Красноярский край",
            "method": "restyle"
           },
           {
            "args": [
             {
              "visible": [
               false,
               false,
               false,
               false,
               false,
               true,
               false,
               false,
               false,
               false,
               false
              ]
             }
            ],
            "label": "Ленинградская область",
            "method": "restyle"
           },
           {
            "args": [
             {
              "visible": [
               false,
               false,
               false,
               false,
               false,
               false,
               true,
               false,
               false,
               false,
               false
              ]
             }
            ],
            "label": "Московская область",
            "method": "restyle"
           },
           {
            "args": [
             {
              "visible": [
               false,
               false,
               false,
               false,
               false,
               false,
               false,
               true,
               false,
               false,
               false
              ]
             }
            ],
            "label": "Приморский край",
            "method": "restyle"
           },
           {
            "args": [
             {
              "visible": [
               false,
               false,
               false,
               false,
               false,
               false,
               false,
               false,
               true,
               false,
               false
              ]
             }
            ],
            "label": "Смоленская область",
            "method": "restyle"
           },
           {
            "args": [
             {
              "visible": [
               false,
               false,
               false,
               false,
               false,
               false,
               false,
               false,
               false,
               true,
               false
              ]
             }
            ],
            "label": "Ставропольский край",
            "method": "restyle"
           },
           {
            "args": [
             {
              "visible": [
               false,
               false,
               false,
               false,
               false,
               false,
               false,
               false,
               false,
               false,
               true
              ]
             }
            ],
            "label": "Хабаровский край",
            "method": "restyle"
           }
          ]
         }
        ],
        "xaxis": {
         "anchor": "y",
         "domain": [
          0,
          1
         ],
         "title": {
          "text": "month"
         }
        },
        "yaxis": {
         "anchor": "x",
         "domain": [
          0,
          1
         ],
         "title": {
          "text": "sales"
         }
        }
       }
      },
      "text/html": [
       "<div>                            <div id=\"064f3b29-3cde-40bc-8f01-1715b3751430\" class=\"plotly-graph-div\" style=\"height:525px; width:100%;\"></div>            <script type=\"text/javascript\">                require([\"plotly\"], function(Plotly) {                    window.PLOTLYENV=window.PLOTLYENV || {};                                    if (document.getElementById(\"064f3b29-3cde-40bc-8f01-1715b3751430\")) {                    Plotly.newPlot(                        \"064f3b29-3cde-40bc-8f01-1715b3751430\",                        [{\"hovertemplate\":\"region=\\u0410\\u043c\\u0443\\u0440\\u0441\\u043a\\u0430\\u044f \\u043e\\u0431\\u043b\\u0430\\u0441\\u0442\\u044c<br>month=%{x}<br>sales=%{y}<extra></extra>\",\"legendgroup\":\"\\u0410\\u043c\\u0443\\u0440\\u0441\\u043a\\u0430\\u044f \\u043e\\u0431\\u043b\\u0430\\u0441\\u0442\\u044c\",\"line\":{\"color\":\"#636efa\",\"dash\":\"solid\"},\"marker\":{\"symbol\":\"circle\"},\"mode\":\"lines\",\"name\":\"\\u0410\\u043c\\u0443\\u0440\\u0441\\u043a\\u0430\\u044f \\u043e\\u0431\\u043b\\u0430\\u0441\\u0442\\u044c\",\"orientation\":\"v\",\"showlegend\":true,\"x\":[\"2017-01\",\"2017-02\",\"2017-03\",\"2017-04\",\"2017-05\",\"2017-06\",\"2017-07\",\"2017-08\",\"2017-09\",\"2017-10\",\"2017-11\",\"2017-12\",\"2018-01\",\"2018-02\",\"2018-03\",\"2018-04\",\"2018-05\",\"2018-06\",\"2018-07\",\"2018-08\",\"2018-09\",\"2018-10\",\"2018-11\",\"2018-12\",\"2019-01\",\"2019-02\",\"2019-03\",\"2019-04\",\"2019-05\",\"2019-06\",\"2019-07\",\"2019-08\",\"2019-09\",\"2019-10\"],\"xaxis\":\"x\",\"y\":[13892593,18513597,26154950,30880044,35140301,36163056,34882005,31269087,24399286,20375199,16654177,16618265,18686662,20801870,28262592,32162444,36570812,35639952,35105554,30758494,24919829,20180195,16439502,17825212,19921230,19832517,27698756,31597095,37327765,35655848,34693005,30806422,23412578,18112817],\"yaxis\":\"y\",\"type\":\"scatter\"},{\"hovertemplate\":\"region=\\u0412\\u043b\\u0430\\u0434\\u0438\\u043c\\u0438\\u0440\\u0441\\u043a\\u0430\\u044f \\u043e\\u0431\\u043b\\u0430\\u0441\\u0442\\u044c<br>month=%{x}<br>sales=%{y}<extra></extra>\",\"legendgroup\":\"\\u0412\\u043b\\u0430\\u0434\\u0438\\u043c\\u0438\\u0440\\u0441\\u043a\\u0430\\u044f \\u043e\\u0431\\u043b\\u0430\\u0441\\u0442\\u044c\",\"line\":{\"color\":\"#EF553B\",\"dash\":\"solid\"},\"marker\":{\"symbol\":\"circle\"},\"mode\":\"lines\",\"name\":\"\\u0412\\u043b\\u0430\\u0434\\u0438\\u043c\\u0438\\u0440\\u0441\\u043a\\u0430\\u044f \\u043e\\u0431\\u043b\\u0430\\u0441\\u0442\\u044c\",\"orientation\":\"v\",\"showlegend\":true,\"x\":[\"2017-01\",\"2017-02\",\"2017-03\",\"2017-04\",\"2017-05\",\"2017-06\",\"2017-07\",\"2017-08\",\"2017-09\",\"2017-10\",\"2017-11\",\"2017-12\",\"2018-01\",\"2018-02\",\"2018-03\",\"2018-04\",\"2018-05\",\"2018-06\",\"2018-07\",\"2018-08\",\"2018-09\",\"2018-10\",\"2018-11\",\"2018-12\",\"2019-01\",\"2019-02\",\"2019-03\",\"2019-04\",\"2019-05\",\"2019-06\",\"2019-07\",\"2019-08\",\"2019-09\",\"2019-10\"],\"xaxis\":\"x\",\"y\":[5268105,6771637,10171577,12737164,14113944,14650277,14042982,11852614,10315032,8345524,7096783,6901647,8347797,9036281,11038092,13524334,15084637,15141533,15278900,12503641,10934856,8414741,6872808,7091611,7995227,8441091,11179867,13121558,13987430,15207215,13999744,11861188,9346777,8058144],\"yaxis\":\"y\",\"type\":\"scatter\"},{\"hovertemplate\":\"region=\\u0418\\u0440\\u043a\\u0443\\u0442\\u0441\\u043a\\u0430\\u044f \\u043e\\u0431\\u043b\\u0430\\u0441\\u0442\\u044c<br>month=%{x}<br>sales=%{y}<extra></extra>\",\"legendgroup\":\"\\u0418\\u0440\\u043a\\u0443\\u0442\\u0441\\u043a\\u0430\\u044f \\u043e\\u0431\\u043b\\u0430\\u0441\\u0442\\u044c\",\"line\":{\"color\":\"#00cc96\",\"dash\":\"solid\"},\"marker\":{\"symbol\":\"circle\"},\"mode\":\"lines\",\"name\":\"\\u0418\\u0440\\u043a\\u0443\\u0442\\u0441\\u043a\\u0430\\u044f \\u043e\\u0431\\u043b\\u0430\\u0441\\u0442\\u044c\",\"orientation\":\"v\",\"showlegend\":true,\"x\":[\"2017-01\",\"2017-02\",\"2017-03\",\"2017-04\",\"2017-05\",\"2017-06\",\"2017-07\",\"2017-08\",\"2017-09\",\"2017-10\",\"2017-11\",\"2017-12\",\"2018-01\",\"2018-02\",\"2018-03\",\"2018-04\",\"2018-05\",\"2018-06\",\"2018-07\",\"2018-08\",\"2018-09\",\"2018-10\",\"2018-11\",\"2018-12\",\"2019-01\",\"2019-02\",\"2019-03\",\"2019-04\",\"2019-05\",\"2019-06\",\"2019-07\",\"2019-08\",\"2019-09\",\"2019-10\"],\"xaxis\":\"x\",\"y\":[8489321,10631759,15561221,18075669,20831187,21374178,21191349,18201983,15037018,12164944,9822714,10240170,11353570,11769753,17754685,19436321,21360283,21614212,20517232,18640289,15126525,12647073,9830494,10035234,11015416,12229403,16353367,18322317,21943133,21404685,21020178,18654486,13863857,10508332],\"yaxis\":\"y\",\"type\":\"scatter\"},{\"hovertemplate\":\"region=\\u041a\\u0440\\u0430\\u0441\\u043d\\u043e\\u0434\\u0430\\u0440\\u0441\\u043a\\u0438\\u0439 \\u043a\\u0440\\u0430\\u0439<br>month=%{x}<br>sales=%{y}<extra></extra>\",\"legendgroup\":\"\\u041a\\u0440\\u0430\\u0441\\u043d\\u043e\\u0434\\u0430\\u0440\\u0441\\u043a\\u0438\\u0439 \\u043a\\u0440\\u0430\\u0439\",\"line\":{\"color\":\"#ab63fa\",\"dash\":\"solid\"},\"marker\":{\"symbol\":\"circle\"},\"mode\":\"lines\",\"name\":\"\\u041a\\u0440\\u0430\\u0441\\u043d\\u043e\\u0434\\u0430\\u0440\\u0441\\u043a\\u0438\\u0439 \\u043a\\u0440\\u0430\\u0439\",\"orientation\":\"v\",\"showlegend\":true,\"x\":[\"2017-01\",\"2017-02\",\"2017-03\",\"2017-04\",\"2017-05\",\"2017-06\",\"2017-07\",\"2017-08\",\"2017-09\",\"2017-10\",\"2017-11\",\"2017-12\",\"2018-01\",\"2018-02\",\"2018-03\",\"2018-04\",\"2018-05\",\"2018-06\",\"2018-07\",\"2018-08\",\"2018-09\",\"2018-10\",\"2018-11\",\"2018-12\",\"2019-01\",\"2019-02\",\"2019-03\",\"2019-04\",\"2019-05\",\"2019-06\",\"2019-07\",\"2019-08\",\"2019-09\",\"2019-10\"],\"xaxis\":\"x\",\"y\":[8384608,10171544,15473265,18652501,21734041,22005001,20632568,19144364,15336161,12622585,10313999,10173871,11809716,12323701,16647221,18457938,21886341,21922982,21669742,19206562,15675833,12362549,10479147,9971532,11735644,11878690,16521385,18914155,21211386,21076817,20805274,17983430,14142131,10679506],\"yaxis\":\"y\",\"type\":\"scatter\"},{\"hovertemplate\":\"region=\\u041a\\u0440\\u0430\\u0441\\u043d\\u043e\\u044f\\u0440\\u0441\\u043a\\u0438\\u0439 \\u043a\\u0440\\u0430\\u0439<br>month=%{x}<br>sales=%{y}<extra></extra>\",\"legendgroup\":\"\\u041a\\u0440\\u0430\\u0441\\u043d\\u043e\\u044f\\u0440\\u0441\\u043a\\u0438\\u0439 \\u043a\\u0440\\u0430\\u0439\",\"line\":{\"color\":\"#FFA15A\",\"dash\":\"solid\"},\"marker\":{\"symbol\":\"circle\"},\"mode\":\"lines\",\"name\":\"\\u041a\\u0440\\u0430\\u0441\\u043d\\u043e\\u044f\\u0440\\u0441\\u043a\\u0438\\u0439 \\u043a\\u0440\\u0430\\u0439\",\"orientation\":\"v\",\"showlegend\":true,\"x\":[\"2017-01\",\"2017-02\",\"2017-03\",\"2017-04\",\"2017-05\",\"2017-06\",\"2017-07\",\"2017-08\",\"2017-09\",\"2017-10\",\"2017-11\",\"2017-12\",\"2018-01\",\"2018-02\",\"2018-03\",\"2018-04\",\"2018-05\",\"2018-06\",\"2018-07\",\"2018-08\",\"2018-09\",\"2018-10\",\"2018-11\",\"2018-12\",\"2019-01\",\"2019-02\",\"2019-03\",\"2019-04\",\"2019-05\",\"2019-06\",\"2019-07\",\"2019-08\",\"2019-09\",\"2019-10\"],\"xaxis\":\"x\",\"y\":[5333002,7657826,10389136,12348815,14505054,14014238,13732467,12484251,9489864,8487996,6837623,6895197,8028802,8599288,11096435,13220273,14366136,14401961,14143936,12450101,10083065,8581572,7238917,6790791,7856273,7934014,11203368,13805087,15223841,14879039,14219330,12680605,9490494,7620870],\"yaxis\":\"y\",\"type\":\"scatter\"},{\"hovertemplate\":\"region=\\u041b\\u0435\\u043d\\u0438\\u043d\\u0433\\u0440\\u0430\\u0434\\u0441\\u043a\\u0430\\u044f \\u043e\\u0431\\u043b\\u0430\\u0441\\u0442\\u044c<br>month=%{x}<br>sales=%{y}<extra></extra>\",\"legendgroup\":\"\\u041b\\u0435\\u043d\\u0438\\u043d\\u0433\\u0440\\u0430\\u0434\\u0441\\u043a\\u0430\\u044f \\u043e\\u0431\\u043b\\u0430\\u0441\\u0442\\u044c\",\"line\":{\"color\":\"#19d3f3\",\"dash\":\"solid\"},\"marker\":{\"symbol\":\"circle\"},\"mode\":\"lines\",\"name\":\"\\u041b\\u0435\\u043d\\u0438\\u043d\\u0433\\u0440\\u0430\\u0434\\u0441\\u043a\\u0430\\u044f \\u043e\\u0431\\u043b\\u0430\\u0441\\u0442\\u044c\",\"orientation\":\"v\",\"showlegend\":true,\"x\":[\"2017-01\",\"2017-02\",\"2017-03\",\"2017-04\",\"2017-05\",\"2017-06\",\"2017-07\",\"2017-08\",\"2017-09\",\"2017-10\",\"2017-11\",\"2017-12\",\"2018-01\",\"2018-02\",\"2018-03\",\"2018-04\",\"2018-05\",\"2018-06\",\"2018-07\",\"2018-08\",\"2018-09\",\"2018-10\",\"2018-11\",\"2018-12\",\"2019-01\",\"2019-02\",\"2019-03\",\"2019-04\",\"2019-05\",\"2019-06\",\"2019-07\",\"2019-08\",\"2019-09\",\"2019-10\"],\"xaxis\":\"x\",\"y\":[11774246,14783259,20560103,24409372,28126134,28306585,28575484,24567998,19924661,16480578,13692374,13432920,15021962,16012249,21550940,25305431,28201433,27968480,27365578,24301841,19361865,16478890,13671773,13685364,15020605,16727831,22452278,24856189,29678782,27886202,27117774,23616419,19485593,14441533],\"yaxis\":\"y\",\"type\":\"scatter\"},{\"hovertemplate\":\"region=\\u041c\\u043e\\u0441\\u043a\\u043e\\u0432\\u0441\\u043a\\u0430\\u044f \\u043e\\u0431\\u043b\\u0430\\u0441\\u0442\\u044c<br>month=%{x}<br>sales=%{y}<extra></extra>\",\"legendgroup\":\"\\u041c\\u043e\\u0441\\u043a\\u043e\\u0432\\u0441\\u043a\\u0430\\u044f \\u043e\\u0431\\u043b\\u0430\\u0441\\u0442\\u044c\",\"line\":{\"color\":\"#FF6692\",\"dash\":\"solid\"},\"marker\":{\"symbol\":\"circle\"},\"mode\":\"lines\",\"name\":\"\\u041c\\u043e\\u0441\\u043a\\u043e\\u0432\\u0441\\u043a\\u0430\\u044f \\u043e\\u0431\\u043b\\u0430\\u0441\\u0442\\u044c\",\"orientation\":\"v\",\"showlegend\":true,\"x\":[\"2017-01\",\"2017-02\",\"2017-03\",\"2017-04\",\"2017-05\",\"2017-06\",\"2017-07\",\"2017-08\",\"2017-09\",\"2017-10\",\"2017-11\",\"2017-12\",\"2018-01\",\"2018-02\",\"2018-03\",\"2018-04\",\"2018-05\",\"2018-06\",\"2018-07\",\"2018-08\",\"2018-09\",\"2018-10\",\"2018-11\",\"2018-12\",\"2019-01\",\"2019-02\",\"2019-03\",\"2019-04\",\"2019-05\",\"2019-06\",\"2019-07\",\"2019-08\",\"2019-09\",\"2019-10\"],\"xaxis\":\"x\",\"y\":[15223197,18057297,25725467,30142204,34658370,35622007,34941542,30450344,24699749,19937245,17112004,16384147,18942528,20611209,28265898,31300981,35081781,35497215,35405562,29954056,24337517,21203956,16668569,17380991,18486582,20501636,27367836,31242523,36012299,35662642,35245437,30322775,23258452,18560872],\"yaxis\":\"y\",\"type\":\"scatter\"},{\"hovertemplate\":\"region=\\u041f\\u0440\\u0438\\u043c\\u043e\\u0440\\u0441\\u043a\\u0438\\u0439 \\u043a\\u0440\\u0430\\u0439<br>month=%{x}<br>sales=%{y}<extra></extra>\",\"legendgroup\":\"\\u041f\\u0440\\u0438\\u043c\\u043e\\u0440\\u0441\\u043a\\u0438\\u0439 \\u043a\\u0440\\u0430\\u0439\",\"line\":{\"color\":\"#B6E880\",\"dash\":\"solid\"},\"marker\":{\"symbol\":\"circle\"},\"mode\":\"lines\",\"name\":\"\\u041f\\u0440\\u0438\\u043c\\u043e\\u0440\\u0441\\u043a\\u0438\\u0439 \\u043a\\u0440\\u0430\\u0439\",\"orientation\":\"v\",\"showlegend\":true,\"x\":[\"2017-01\",\"2017-02\",\"2017-03\",\"2017-04\",\"2017-05\",\"2017-06\",\"2017-07\",\"2017-08\",\"2017-09\",\"2017-10\",\"2017-11\",\"2017-12\",\"2018-01\",\"2018-02\",\"2018-03\",\"2018-04\",\"2018-05\",\"2018-06\",\"2018-07\",\"2018-08\",\"2018-09\",\"2018-10\",\"2018-11\",\"2018-12\",\"2019-01\",\"2019-02\",\"2019-03\",\"2019-04\",\"2019-05\",\"2019-06\",\"2019-07\",\"2019-08\",\"2019-09\",\"2019-10\"],\"xaxis\":\"x\",\"y\":[8811429,11065658,16099579,19246367,22482274,21458331,21562793,18376097,15103136,12884427,10191965,10207766,11975274,12651872,16775925,18939798,22239277,21713806,20631947,18324975,15181533,12716136,10721653,9984776,11528458,12306702,16689416,18890572,21799257,22003853,21608019,17582269,14265673,10595997],\"yaxis\":\"y\",\"type\":\"scatter\"},{\"hovertemplate\":\"region=\\u0421\\u043c\\u043e\\u043b\\u0435\\u043d\\u0441\\u043a\\u0430\\u044f \\u043e\\u0431\\u043b\\u0430\\u0441\\u0442\\u044c<br>month=%{x}<br>sales=%{y}<extra></extra>\",\"legendgroup\":\"\\u0421\\u043c\\u043e\\u043b\\u0435\\u043d\\u0441\\u043a\\u0430\\u044f \\u043e\\u0431\\u043b\\u0430\\u0441\\u0442\\u044c\",\"line\":{\"color\":\"#FF97FF\",\"dash\":\"solid\"},\"marker\":{\"symbol\":\"circle\"},\"mode\":\"lines\",\"name\":\"\\u0421\\u043c\\u043e\\u043b\\u0435\\u043d\\u0441\\u043a\\u0430\\u044f \\u043e\\u0431\\u043b\\u0430\\u0441\\u0442\\u044c\",\"orientation\":\"v\",\"showlegend\":true,\"x\":[\"2017-01\",\"2017-02\",\"2017-03\",\"2017-04\",\"2017-05\",\"2017-06\",\"2017-07\",\"2017-08\",\"2017-09\",\"2017-10\",\"2017-11\",\"2017-12\",\"2018-01\",\"2018-02\",\"2018-03\",\"2018-04\",\"2018-05\",\"2018-06\",\"2018-07\",\"2018-08\",\"2018-09\",\"2018-10\",\"2018-11\",\"2018-12\",\"2019-01\",\"2019-02\",\"2019-03\",\"2019-04\",\"2019-05\",\"2019-06\",\"2019-07\",\"2019-08\",\"2019-09\",\"2019-10\"],\"xaxis\":\"x\",\"y\":[5359025,7505239,10365824,12521319,13644845,14129378,13843372,13037091,10012444,8225682,6540350,7394629,7325317,7858580,11222525,12996552,13821678,14442876,13903693,11505545,10557258,8424326,6972656,6333703,7607672,8098299,11317196,12093813,14565658,14126357,13863133,11547227,9228205,7390256],\"yaxis\":\"y\",\"type\":\"scatter\"},{\"hovertemplate\":\"region=\\u0421\\u0442\\u0430\\u0432\\u0440\\u043e\\u043f\\u043e\\u043b\\u044c\\u0441\\u043a\\u0438\\u0439 \\u043a\\u0440\\u0430\\u0439<br>month=%{x}<br>sales=%{y}<extra></extra>\",\"legendgroup\":\"\\u0421\\u0442\\u0430\\u0432\\u0440\\u043e\\u043f\\u043e\\u043b\\u044c\\u0441\\u043a\\u0438\\u0439 \\u043a\\u0440\\u0430\\u0439\",\"line\":{\"color\":\"#FECB52\",\"dash\":\"solid\"},\"marker\":{\"symbol\":\"circle\"},\"mode\":\"lines\",\"name\":\"\\u0421\\u0442\\u0430\\u0432\\u0440\\u043e\\u043f\\u043e\\u043b\\u044c\\u0441\\u043a\\u0438\\u0439 \\u043a\\u0440\\u0430\\u0439\",\"orientation\":\"v\",\"showlegend\":true,\"x\":[\"2017-01\",\"2017-02\",\"2017-03\",\"2017-04\",\"2017-05\",\"2017-06\",\"2017-07\",\"2017-08\",\"2017-09\",\"2017-10\",\"2017-11\",\"2017-12\",\"2018-01\",\"2018-02\",\"2018-03\",\"2018-04\",\"2018-05\",\"2018-06\",\"2018-07\",\"2018-08\",\"2018-09\",\"2018-10\",\"2018-11\",\"2018-12\",\"2019-01\",\"2019-02\",\"2019-03\",\"2019-04\",\"2019-05\",\"2019-06\",\"2019-07\",\"2019-08\",\"2019-09\",\"2019-10\"],\"xaxis\":\"x\",\"y\":[6642702,8519759,12655900,15361115,17263507,17807590,17211078,15617153,12485050,9572207,8485631,8081761,9491887,10113273,13928211,16124896,18317470,18279801,17033240,15359792,12999943,10551623,8493005,8368889,9794100,10070789,14103239,15999331,17757712,17733407,17651205,15782461,11626984,9308110],\"yaxis\":\"y\",\"type\":\"scatter\"},{\"hovertemplate\":\"region=\\u0425\\u0430\\u0431\\u0430\\u0440\\u043e\\u0432\\u0441\\u043a\\u0438\\u0439 \\u043a\\u0440\\u0430\\u0439<br>month=%{x}<br>sales=%{y}<extra></extra>\",\"legendgroup\":\"\\u0425\\u0430\\u0431\\u0430\\u0440\\u043e\\u0432\\u0441\\u043a\\u0438\\u0439 \\u043a\\u0440\\u0430\\u0439\",\"line\":{\"color\":\"#636efa\",\"dash\":\"solid\"},\"marker\":{\"symbol\":\"circle\"},\"mode\":\"lines\",\"name\":\"\\u0425\\u0430\\u0431\\u0430\\u0440\\u043e\\u0432\\u0441\\u043a\\u0438\\u0439 \\u043a\\u0440\\u0430\\u0439\",\"orientation\":\"v\",\"showlegend\":true,\"x\":[\"2017-01\",\"2017-02\",\"2017-03\",\"2017-04\",\"2017-05\",\"2017-06\",\"2017-07\",\"2017-08\",\"2017-09\",\"2017-10\",\"2017-11\",\"2017-12\",\"2018-01\",\"2018-02\",\"2018-03\",\"2018-04\",\"2018-05\",\"2018-06\",\"2018-07\",\"2018-08\",\"2018-09\",\"2018-10\",\"2018-11\",\"2018-12\",\"2019-01\",\"2019-02\",\"2019-03\",\"2019-04\",\"2019-05\",\"2019-06\",\"2019-07\",\"2019-08\",\"2019-09\",\"2019-10\"],\"xaxis\":\"x\",\"y\":[11406274,13673627,20452725,24227324,27950876,28429591,27249626,24493186,19534422,16671406,13601105,13390462,15445928,16301981,22232839,26094588,29892138,29789094,28570691,24289937,20360332,16690127,13805042,13501771,14720722,15685484,21501014,24841985,28767990,27884589,27770391,23312918,18538074,14210932],\"yaxis\":\"y\",\"type\":\"scatter\"}],                        {\"template\":{\"data\":{\"histogram2dcontour\":[{\"type\":\"histogram2dcontour\",\"colorbar\":{\"outlinewidth\":0,\"ticks\":\"\"},\"colorscale\":[[0.0,\"#0d0887\"],[0.1111111111111111,\"#46039f\"],[0.2222222222222222,\"#7201a8\"],[0.3333333333333333,\"#9c179e\"],[0.4444444444444444,\"#bd3786\"],[0.5555555555555556,\"#d8576b\"],[0.6666666666666666,\"#ed7953\"],[0.7777777777777778,\"#fb9f3a\"],[0.8888888888888888,\"#fdca26\"],[1.0,\"#f0f921\"]]}],\"choropleth\":[{\"type\":\"choropleth\",\"colorbar\":{\"outlinewidth\":0,\"ticks\":\"\"}}],\"histogram2d\":[{\"type\":\"histogram2d\",\"colorbar\":{\"outlinewidth\":0,\"ticks\":\"\"},\"colorscale\":[[0.0,\"#0d0887\"],[0.1111111111111111,\"#46039f\"],[0.2222222222222222,\"#7201a8\"],[0.3333333333333333,\"#9c179e\"],[0.4444444444444444,\"#bd3786\"],[0.5555555555555556,\"#d8576b\"],[0.6666666666666666,\"#ed7953\"],[0.7777777777777778,\"#fb9f3a\"],[0.8888888888888888,\"#fdca26\"],[1.0,\"#f0f921\"]]}],\"heatmap\":[{\"type\":\"heatmap\",\"colorbar\":{\"outlinewidth\":0,\"ticks\":\"\"},\"colorscale\":[[0.0,\"#0d0887\"],[0.1111111111111111,\"#46039f\"],[0.2222222222222222,\"#7201a8\"],[0.3333333333333333,\"#9c179e\"],[0.4444444444444444,\"#bd3786\"],[0.5555555555555556,\"#d8576b\"],[0.6666666666666666,\"#ed7953\"],[0.7777777777777778,\"#fb9f3a\"],[0.8888888888888888,\"#fdca26\"],[1.0,\"#f0f921\"]]}],\"heatmapgl\":[{\"type\":\"heatmapgl\",\"colorbar\":{\"outlinewidth\":0,\"ticks\":\"\"},\"colorscale\":[[0.0,\"#0d0887\"],[0.1111111111111111,\"#46039f\"],[0.2222222222222222,\"#7201a8\"],[0.3333333333333333,\"#9c179e\"],[0.4444444444444444,\"#bd3786\"],[0.5555555555555556,\"#d8576b\"],[0.6666666666666666,\"#ed7953\"],[0.7777777777777778,\"#fb9f3a\"],[0.8888888888888888,\"#fdca26\"],[1.0,\"#f0f921\"]]}],\"contourcarpet\":[{\"type\":\"contourcarpet\",\"colorbar\":{\"outlinewidth\":0,\"ticks\":\"\"}}],\"contour\":[{\"type\":\"contour\",\"colorbar\":{\"outlinewidth\":0,\"ticks\":\"\"},\"colorscale\":[[0.0,\"#0d0887\"],[0.1111111111111111,\"#46039f\"],[0.2222222222222222,\"#7201a8\"],[0.3333333333333333,\"#9c179e\"],[0.4444444444444444,\"#bd3786\"],[0.5555555555555556,\"#d8576b\"],[0.6666666666666666,\"#ed7953\"],[0.7777777777777778,\"#fb9f3a\"],[0.8888888888888888,\"#fdca26\"],[1.0,\"#f0f921\"]]}],\"surface\":[{\"type\":\"surface\",\"colorbar\":{\"outlinewidth\":0,\"ticks\":\"\"},\"colorscale\":[[0.0,\"#0d0887\"],[0.1111111111111111,\"#46039f\"],[0.2222222222222222,\"#7201a8\"],[0.3333333333333333,\"#9c179e\"],[0.4444444444444444,\"#bd3786\"],[0.5555555555555556,\"#d8576b\"],[0.6666666666666666,\"#ed7953\"],[0.7777777777777778,\"#fb9f3a\"],[0.8888888888888888,\"#fdca26\"],[1.0,\"#f0f921\"]]}],\"mesh3d\":[{\"type\":\"mesh3d\",\"colorbar\":{\"outlinewidth\":0,\"ticks\":\"\"}}],\"scatter\":[{\"fillpattern\":{\"fillmode\":\"overlay\",\"size\":10,\"solidity\":0.2},\"type\":\"scatter\"}],\"parcoords\":[{\"type\":\"parcoords\",\"line\":{\"colorbar\":{\"outlinewidth\":0,\"ticks\":\"\"}}}],\"scatterpolargl\":[{\"type\":\"scatterpolargl\",\"marker\":{\"colorbar\":{\"outlinewidth\":0,\"ticks\":\"\"}}}],\"bar\":[{\"error_x\":{\"color\":\"#2a3f5f\"},\"error_y\":{\"color\":\"#2a3f5f\"},\"marker\":{\"line\":{\"color\":\"#E5ECF6\",\"width\":0.5},\"pattern\":{\"fillmode\":\"overlay\",\"size\":10,\"solidity\":0.2}},\"type\":\"bar\"}],\"scattergeo\":[{\"type\":\"scattergeo\",\"marker\":{\"colorbar\":{\"outlinewidth\":0,\"ticks\":\"\"}}}],\"scatterpolar\":[{\"type\":\"scatterpolar\",\"marker\":{\"colorbar\":{\"outlinewidth\":0,\"ticks\":\"\"}}}],\"histogram\":[{\"marker\":{\"pattern\":{\"fillmode\":\"overlay\",\"size\":10,\"solidity\":0.2}},\"type\":\"histogram\"}],\"scattergl\":[{\"type\":\"scattergl\",\"marker\":{\"colorbar\":{\"outlinewidth\":0,\"ticks\":\"\"}}}],\"scatter3d\":[{\"type\":\"scatter3d\",\"line\":{\"colorbar\":{\"outlinewidth\":0,\"ticks\":\"\"}},\"marker\":{\"colorbar\":{\"outlinewidth\":0,\"ticks\":\"\"}}}],\"scattermapbox\":[{\"type\":\"scattermapbox\",\"marker\":{\"colorbar\":{\"outlinewidth\":0,\"ticks\":\"\"}}}],\"scatterternary\":[{\"type\":\"scatterternary\",\"marker\":{\"colorbar\":{\"outlinewidth\":0,\"ticks\":\"\"}}}],\"scattercarpet\":[{\"type\":\"scattercarpet\",\"marker\":{\"colorbar\":{\"outlinewidth\":0,\"ticks\":\"\"}}}],\"carpet\":[{\"aaxis\":{\"endlinecolor\":\"#2a3f5f\",\"gridcolor\":\"white\",\"linecolor\":\"white\",\"minorgridcolor\":\"white\",\"startlinecolor\":\"#2a3f5f\"},\"baxis\":{\"endlinecolor\":\"#2a3f5f\",\"gridcolor\":\"white\",\"linecolor\":\"white\",\"minorgridcolor\":\"white\",\"startlinecolor\":\"#2a3f5f\"},\"type\":\"carpet\"}],\"table\":[{\"cells\":{\"fill\":{\"color\":\"#EBF0F8\"},\"line\":{\"color\":\"white\"}},\"header\":{\"fill\":{\"color\":\"#C8D4E3\"},\"line\":{\"color\":\"white\"}},\"type\":\"table\"}],\"barpolar\":[{\"marker\":{\"line\":{\"color\":\"#E5ECF6\",\"width\":0.5},\"pattern\":{\"fillmode\":\"overlay\",\"size\":10,\"solidity\":0.2}},\"type\":\"barpolar\"}],\"pie\":[{\"automargin\":true,\"type\":\"pie\"}]},\"layout\":{\"autotypenumbers\":\"strict\",\"colorway\":[\"#636efa\",\"#EF553B\",\"#00cc96\",\"#ab63fa\",\"#FFA15A\",\"#19d3f3\",\"#FF6692\",\"#B6E880\",\"#FF97FF\",\"#FECB52\"],\"font\":{\"color\":\"#2a3f5f\"},\"hovermode\":\"closest\",\"hoverlabel\":{\"align\":\"left\"},\"paper_bgcolor\":\"white\",\"plot_bgcolor\":\"#E5ECF6\",\"polar\":{\"bgcolor\":\"#E5ECF6\",\"angularaxis\":{\"gridcolor\":\"white\",\"linecolor\":\"white\",\"ticks\":\"\"},\"radialaxis\":{\"gridcolor\":\"white\",\"linecolor\":\"white\",\"ticks\":\"\"}},\"ternary\":{\"bgcolor\":\"#E5ECF6\",\"aaxis\":{\"gridcolor\":\"white\",\"linecolor\":\"white\",\"ticks\":\"\"},\"baxis\":{\"gridcolor\":\"white\",\"linecolor\":\"white\",\"ticks\":\"\"},\"caxis\":{\"gridcolor\":\"white\",\"linecolor\":\"white\",\"ticks\":\"\"}},\"coloraxis\":{\"colorbar\":{\"outlinewidth\":0,\"ticks\":\"\"}},\"colorscale\":{\"sequential\":[[0.0,\"#0d0887\"],[0.1111111111111111,\"#46039f\"],[0.2222222222222222,\"#7201a8\"],[0.3333333333333333,\"#9c179e\"],[0.4444444444444444,\"#bd3786\"],[0.5555555555555556,\"#d8576b\"],[0.6666666666666666,\"#ed7953\"],[0.7777777777777778,\"#fb9f3a\"],[0.8888888888888888,\"#fdca26\"],[1.0,\"#f0f921\"]],\"sequentialminus\":[[0.0,\"#0d0887\"],[0.1111111111111111,\"#46039f\"],[0.2222222222222222,\"#7201a8\"],[0.3333333333333333,\"#9c179e\"],[0.4444444444444444,\"#bd3786\"],[0.5555555555555556,\"#d8576b\"],[0.6666666666666666,\"#ed7953\"],[0.7777777777777778,\"#fb9f3a\"],[0.8888888888888888,\"#fdca26\"],[1.0,\"#f0f921\"]],\"diverging\":[[0,\"#8e0152\"],[0.1,\"#c51b7d\"],[0.2,\"#de77ae\"],[0.3,\"#f1b6da\"],[0.4,\"#fde0ef\"],[0.5,\"#f7f7f7\"],[0.6,\"#e6f5d0\"],[0.7,\"#b8e186\"],[0.8,\"#7fbc41\"],[0.9,\"#4d9221\"],[1,\"#276419\"]]},\"xaxis\":{\"gridcolor\":\"white\",\"linecolor\":\"white\",\"ticks\":\"\",\"title\":{\"standoff\":15},\"zerolinecolor\":\"white\",\"automargin\":true,\"zerolinewidth\":2},\"yaxis\":{\"gridcolor\":\"white\",\"linecolor\":\"white\",\"ticks\":\"\",\"title\":{\"standoff\":15},\"zerolinecolor\":\"white\",\"automargin\":true,\"zerolinewidth\":2},\"scene\":{\"xaxis\":{\"backgroundcolor\":\"#E5ECF6\",\"gridcolor\":\"white\",\"linecolor\":\"white\",\"showbackground\":true,\"ticks\":\"\",\"zerolinecolor\":\"white\",\"gridwidth\":2},\"yaxis\":{\"backgroundcolor\":\"#E5ECF6\",\"gridcolor\":\"white\",\"linecolor\":\"white\",\"showbackground\":true,\"ticks\":\"\",\"zerolinecolor\":\"white\",\"gridwidth\":2},\"zaxis\":{\"backgroundcolor\":\"#E5ECF6\",\"gridcolor\":\"white\",\"linecolor\":\"white\",\"showbackground\":true,\"ticks\":\"\",\"zerolinecolor\":\"white\",\"gridwidth\":2}},\"shapedefaults\":{\"line\":{\"color\":\"#2a3f5f\"}},\"annotationdefaults\":{\"arrowcolor\":\"#2a3f5f\",\"arrowhead\":0,\"arrowwidth\":1},\"geo\":{\"bgcolor\":\"white\",\"landcolor\":\"#E5ECF6\",\"subunitcolor\":\"white\",\"showland\":true,\"showlakes\":true,\"lakecolor\":\"white\"},\"title\":{\"x\":0.05},\"mapbox\":{\"style\":\"light\"}}},\"xaxis\":{\"anchor\":\"y\",\"domain\":[0.0,1.0],\"title\":{\"text\":\"month\"}},\"yaxis\":{\"anchor\":\"x\",\"domain\":[0.0,1.0],\"title\":{\"text\":\"sales\"}},\"legend\":{\"title\":{\"text\":\"region\"},\"tracegroupgap\":0},\"margin\":{\"t\":60},\"updatemenus\":[{\"buttons\":[{\"args\":[{\"visible\":[true,true,true,true,true,true,true,true,true,true,true]}],\"label\":\"All regions\",\"method\":\"restyle\"},{\"args\":[{\"visible\":[true,false,false,false,false,false,false,false,false,false,false]}],\"label\":\"\\u0410\\u043c\\u0443\\u0440\\u0441\\u043a\\u0430\\u044f \\u043e\\u0431\\u043b\\u0430\\u0441\\u0442\\u044c\",\"method\":\"restyle\"},{\"args\":[{\"visible\":[false,true,false,false,false,false,false,false,false,false,false]}],\"label\":\"\\u0412\\u043b\\u0430\\u0434\\u0438\\u043c\\u0438\\u0440\\u0441\\u043a\\u0430\\u044f \\u043e\\u0431\\u043b\\u0430\\u0441\\u0442\\u044c\",\"method\":\"restyle\"},{\"args\":[{\"visible\":[false,false,true,false,false,false,false,false,false,false,false]}],\"label\":\"\\u0418\\u0440\\u043a\\u0443\\u0442\\u0441\\u043a\\u0430\\u044f \\u043e\\u0431\\u043b\\u0430\\u0441\\u0442\\u044c\",\"method\":\"restyle\"},{\"args\":[{\"visible\":[false,false,false,true,false,false,false,false,false,false,false]}],\"label\":\"\\u041a\\u0440\\u0430\\u0441\\u043d\\u043e\\u0434\\u0430\\u0440\\u0441\\u043a\\u0438\\u0439 \\u043a\\u0440\\u0430\\u0439\",\"method\":\"restyle\"},{\"args\":[{\"visible\":[false,false,false,false,true,false,false,false,false,false,false]}],\"label\":\"\\u041a\\u0440\\u0430\\u0441\\u043d\\u043e\\u044f\\u0440\\u0441\\u043a\\u0438\\u0439 \\u043a\\u0440\\u0430\\u0439\",\"method\":\"restyle\"},{\"args\":[{\"visible\":[false,false,false,false,false,true,false,false,false,false,false]}],\"label\":\"\\u041b\\u0435\\u043d\\u0438\\u043d\\u0433\\u0440\\u0430\\u0434\\u0441\\u043a\\u0430\\u044f \\u043e\\u0431\\u043b\\u0430\\u0441\\u0442\\u044c\",\"method\":\"restyle\"},{\"args\":[{\"visible\":[false,false,false,false,false,false,true,false,false,false,false]}],\"label\":\"\\u041c\\u043e\\u0441\\u043a\\u043e\\u0432\\u0441\\u043a\\u0430\\u044f \\u043e\\u0431\\u043b\\u0430\\u0441\\u0442\\u044c\",\"method\":\"restyle\"},{\"args\":[{\"visible\":[false,false,false,false,false,false,false,true,false,false,false]}],\"label\":\"\\u041f\\u0440\\u0438\\u043c\\u043e\\u0440\\u0441\\u043a\\u0438\\u0439 \\u043a\\u0440\\u0430\\u0439\",\"method\":\"restyle\"},{\"args\":[{\"visible\":[false,false,false,false,false,false,false,false,true,false,false]}],\"label\":\"\\u0421\\u043c\\u043e\\u043b\\u0435\\u043d\\u0441\\u043a\\u0430\\u044f \\u043e\\u0431\\u043b\\u0430\\u0441\\u0442\\u044c\",\"method\":\"restyle\"},{\"args\":[{\"visible\":[false,false,false,false,false,false,false,false,false,true,false]}],\"label\":\"\\u0421\\u0442\\u0430\\u0432\\u0440\\u043e\\u043f\\u043e\\u043b\\u044c\\u0441\\u043a\\u0438\\u0439 \\u043a\\u0440\\u0430\\u0439\",\"method\":\"restyle\"},{\"args\":[{\"visible\":[false,false,false,false,false,false,false,false,false,false,true]}],\"label\":\"\\u0425\\u0430\\u0431\\u0430\\u0440\\u043e\\u0432\\u0441\\u043a\\u0438\\u0439 \\u043a\\u0440\\u0430\\u0439\",\"method\":\"restyle\"}]}]},                        {\"responsive\": true}                    ).then(function(){\n",
       "                            \n",
       "var gd = document.getElementById('064f3b29-3cde-40bc-8f01-1715b3751430');\n",
       "var x = new MutationObserver(function (mutations, observer) {{\n",
       "        var display = window.getComputedStyle(gd).display;\n",
       "        if (!display || display === 'none') {{\n",
       "            console.log([gd, 'removed!']);\n",
       "            Plotly.purge(gd);\n",
       "            observer.disconnect();\n",
       "        }}\n",
       "}});\n",
       "\n",
       "// Listen for the removal of the full notebook cells\n",
       "var notebookContainer = gd.closest('#notebook-container');\n",
       "if (notebookContainer) {{\n",
       "    x.observe(notebookContainer, {childList: true});\n",
       "}}\n",
       "\n",
       "// Listen for the clearing of the current output cell\n",
       "var outputEl = gd.closest('.output');\n",
       "if (outputEl) {{\n",
       "    x.observe(outputEl, {childList: true});\n",
       "}}\n",
       "\n",
       "                        })                };                });            </script>        </div>"
      ]
     },
     "metadata": {},
     "output_type": "display_data"
    }
   ],
   "source": [
    "#build a graph of sales dynamics by month with the ability to select a region\n",
    "\n",
    "import plotly.express as px\n",
    "\n",
    "fig = px.line(sales_region, x='month', y='sales', color='region')\n",
    "\n",
    "fig.update_layout(\n",
    "    updatemenus=[\n",
    "        {\n",
    "            \"buttons\": [{ \"label\": 'All regions', \"method\": \"restyle\", \"args\": [{\"visible\": [True for _ in fig.data]}], }] +\n",
    "            [\n",
    "                {\n",
    "                    \"label\": t.name,\n",
    "                    \"method\": \"restyle\",\n",
    "                    \"args\": [{\"visible\": [t2.name == t.name for t2 in fig.data]}],\n",
    "                }\n",
    "                for t in fig.data\n",
    "            ]\n",
    "        }\n",
    "    ]\n",
    ")\n",
    "\n",
    "fig.show()"
   ]
  }
 ],
 "metadata": {
  "kernelspec": {
   "display_name": "Python 3 (ipykernel)",
   "language": "python",
   "name": "python3"
  },
  "language_info": {
   "codemirror_mode": {
    "name": "ipython",
    "version": 3
   },
   "file_extension": ".py",
   "mimetype": "text/x-python",
   "name": "python",
   "nbconvert_exporter": "python",
   "pygments_lexer": "ipython3",
   "version": "3.11.5"
  }
 },
 "nbformat": 4,
 "nbformat_minor": 5
}
